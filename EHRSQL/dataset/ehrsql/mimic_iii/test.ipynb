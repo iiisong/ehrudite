{
 "cells": [
  {
   "cell_type": "code",
   "execution_count": 44,
   "metadata": {},
   "outputs": [
    {
     "data": {
      "text/plain": [
       "True"
      ]
     },
     "execution_count": 44,
     "metadata": {},
     "output_type": "execute_result"
    }
   ],
   "source": [
    "import mysql.connector\n",
    "from dotenv import load_dotenv\n",
    "import os\n",
    "load_dotenv()"
   ]
  },
  {
   "cell_type": "code",
   "execution_count": 45,
   "metadata": {},
   "outputs": [
    {
     "data": {
      "text/plain": [
       "['DROP TABLE IF EXISTS PATIENTS;',\n",
       " 'CREATE TABLE PATIENTS (    ROW_ID INT NOT NULL PRIMARY KEY,    SUBJECT_ID INT NOT NULL UNIQUE,    GENDER VARCHAR(5) NOT NULL,    DOB TIMESTAMP(0) NOT NULL,    DOD TIMESTAMP(0));',\n",
       " 'DROP TABLE IF EXISTS ADMISSIONS;',\n",
       " 'CREATE TABLE ADMISSIONS(    ROW_ID INT NOT NULL PRIMARY KEY,    SUBJECT_ID INT NOT NULL,    HADM_ID INT NOT NULL UNIQUE,    ADMITTIME TIMESTAMP(0) NOT NULL,    DISCHTIME TIMESTAMP(0),    ADMISSION_TYPE VARCHAR(50) NOT NULL,    ADMISSION_LOCATION VARCHAR(50) NOT NULL,    DISCHARGE_LOCATION VARCHAR(50),    INSURANCE VARCHAR(255) NOT NULL,    LANGUAGE VARCHAR(10),    MARITAL_STATUS VARCHAR(50),    ETHNICITY VARCHAR(200) NOT NULL,    AGE INT NOT NULL,    FOREIGN KEY(SUBJECT_ID) REFERENCES PATIENTS(SUBJECT_ID));',\n",
       " 'DROP TABLE IF EXISTS D_ICD_DIAGNOSES;',\n",
       " 'CREATE TABLE D_ICD_DIAGNOSES(    ROW_ID INT NOT NULL PRIMARY KEY,    ICD9_CODE VARCHAR(10) NOT NULL UNIQUE,    SHORT_TITLE VARCHAR(50) NOT NULL,    LONG_TITLE VARCHAR(255) NOT NULL);',\n",
       " 'DROP TABLE IF EXISTS D_ICD_PROCEDURES;',\n",
       " 'CREATE TABLE D_ICD_PROCEDURES (    ROW_ID INT NOT NULL PRIMARY KEY,    ICD9_CODE VARCHAR(10) NOT NULL UNIQUE,    SHORT_TITLE VARCHAR(50) NOT NULL,    LONG_TITLE VARCHAR(255) NOT NULL);',\n",
       " 'DROP TABLE IF EXISTS D_LABITEMS;',\n",
       " 'CREATE TABLE D_LABITEMS (    ROW_ID INT NOT NULL PRIMARY KEY,    ITEMID INT NOT NULL UNIQUE,    LABEL VARCHAR(200) NOT NULL);',\n",
       " 'DROP TABLE IF EXISTS D_ITEMS;',\n",
       " 'CREATE TABLE D_ITEMS (    ROW_ID INT NOT NULL PRIMARY KEY,    ITEMID INT NOT NULL UNIQUE,    LABEL VARCHAR(200) NOT NULL,    LINKSTO VARCHAR(50) NOT NULL);',\n",
       " 'DROP TABLE IF EXISTS DIAGNOSES_ICD;',\n",
       " 'CREATE TABLE DIAGNOSES_ICD(    ROW_ID INT NOT NULL PRIMARY KEY,    SUBJECT_ID INT NOT NULL,    HADM_ID INT NOT NULL,    ICD9_CODE VARCHAR(10) NOT NULL,    CHARTTIME TIMESTAMP(0) NOT NULL,    FOREIGN KEY(HADM_ID) REFERENCES ADMISSIONS(HADM_ID),    FOREIGN KEY(ICD9_CODE) REFERENCES D_ICD_DIAGNOSES(ICD9_CODE));',\n",
       " 'DROP TABLE IF EXISTS PROCEDURES_ICD;',\n",
       " 'CREATE TABLE PROCEDURES_ICD(    ROW_ID INT NOT NULL PRIMARY KEY,    SUBJECT_ID INT NOT NULL,    HADM_ID INT NOT NULL,    ICD9_CODE VARCHAR(10) NOT NULL,    CHARTTIME TIMESTAMP(0) NOT NULL,    FOREIGN KEY(HADM_ID) REFERENCES ADMISSIONS(HADM_ID),    FOREIGN KEY(ICD9_CODE) REFERENCES D_ICD_PROCEDURES(ICD9_CODE));',\n",
       " 'DROP TABLE IF EXISTS LABEVENTS;',\n",
       " 'CREATE TABLE LABEVENTS(    ROW_ID INT NOT NULL PRIMARY KEY,    SUBJECT_ID INT NOT NULL,    HADM_ID INT NOT NULL,    ITEMID INT NOT NULL,    CHARTTIME TIMESTAMP(0),    VALUENUM DOUBLE PRECISION,    VALUEUOM VARCHAR(20),    FOREIGN KEY(HADM_ID) REFERENCES ADMISSIONS(HADM_ID),    FOREIGN KEY(ITEMID) REFERENCES D_LABITEMS(ITEMID));',\n",
       " 'DROP TABLE IF EXISTS PRESCRIPTIONS;',\n",
       " 'CREATE TABLE PRESCRIPTIONS(    ROW_ID INT NOT NULL PRIMARY KEY,    SUBJECT_ID INT NOT NULL,    HADM_ID INT NOT NULL,    STARTDATE TIMESTAMP(0) NOT NULL,    ENDDATE TIMESTAMP(0),    DRUG VARCHAR(100) NOT NULL,    DOSE_VAL_RX VARCHAR(120) NOT NULL,    DOSE_UNIT_RX VARCHAR(120) NOT NULL,    ROUTE VARCHAR(120) NOT NULL,    FOREIGN KEY(HADM_ID) REFERENCES ADMISSIONS(HADM_ID));',\n",
       " 'DROP TABLE IF EXISTS COST;',\n",
       " 'CREATE TABLE COST(    ROW_ID INT NOT NULL PRIMARY KEY,    SUBJECT_ID INT NOT NULL,    HADM_ID INT NOT NULL,    EVENT_TYPE VARCHAR(20) NOT NULL,    EVENT_ID INT NOT NULL,    CHARGETIME TIMESTAMP(0) NOT NULL,    COST DOUBLE PRECISION NOT NULL,    FOREIGN KEY(HADM_ID) REFERENCES ADMISSIONS(HADM_ID),    FOREIGN KEY(EVENT_ID) REFERENCES DIAGNOSES_ICD(ROW_ID),    FOREIGN KEY(EVENT_ID) REFERENCES PROCEDURES_ICD(ROW_ID),    FOREIGN KEY(EVENT_ID) REFERENCES LABEVENTS(ROW_ID),    FOREIGN KEY(EVENT_ID) REFERENCES PRESCRIPTIONS(ROW_ID)  );',\n",
       " 'DROP TABLE IF EXISTS CHARTEVENTS;',\n",
       " 'CREATE TABLE CHARTEVENTS(    ROW_ID INT NOT NULL PRIMARY KEY,    SUBJECT_ID INT NOT NULL,    HADM_ID INT NOT NULL,    ICUSTAY_ID INT NOT NULL,    ITEMID INT NOT NULL,    CHARTTIME TIMESTAMP(0) NOT NULL,    VALUENUM DOUBLE PRECISION,    VALUEUOM VARCHAR(50),    FOREIGN KEY(HADM_ID) REFERENCES ADMISSIONS(HADM_ID),    FOREIGN KEY(ICUSTAY_ID) REFERENCES ICUSTAYS(ICUSTAY_ID),    FOREIGN KEY(ITEMID) REFERENCES D_ITEMS(ITEMID));',\n",
       " 'DROP TABLE IF EXISTS INPUTEVENTS_CV;',\n",
       " 'CREATE TABLE INPUTEVENTS_CV(    ROW_ID INT NOT NULL PRIMARY KEY,    SUBJECT_ID INT NOT NULL,    HADM_ID INT NOT NULL,    ICUSTAY_ID INT NOT NULL,    CHARTTIME TIMESTAMP(0) NOT NULL,    ITEMID INT NOT NULL,    AMOUNT DOUBLE PRECISION,    FOREIGN KEY(HADM_ID) REFERENCES ADMISSIONS(HADM_ID),    FOREIGN KEY(ICUSTAY_ID) REFERENCES ICUSTAYS(ICUSTAY_ID),    FOREIGN KEY(ITEMID) REFERENCES D_ITEMS(ITEMID));',\n",
       " 'DROP TABLE IF EXISTS OUTPUTEVENTS;',\n",
       " 'CREATE TABLE OUTPUTEVENTS(    ROW_ID INT NOT NULL PRIMARY KEY,    SUBJECT_ID INT NOT NULL,    HADM_ID INT NOT NULL,    ICUSTAY_ID INT NOT NULL,    CHARTTIME TIMESTAMP(0) NOT NULL,    ITEMID INT NOT NULL,    VALUE DOUBLE PRECISION,    FOREIGN KEY(HADM_ID) REFERENCES ADMISSIONS(HADM_ID),    FOREIGN KEY(ICUSTAY_ID) REFERENCES ICUSTAYS(ICUSTAY_ID),    FOREIGN KEY(ITEMID) REFERENCES D_ITEMS(ITEMID));',\n",
       " 'DROP TABLE IF EXISTS MICROBIOLOGYEVENTS;',\n",
       " 'CREATE TABLE MICROBIOLOGYEVENTS(    ROW_ID INT NOT NULL PRIMARY KEY,    SUBJECT_ID INT NOT NULL,    HADM_ID INT NOT NULL,    CHARTTIME TIMESTAMP(0) NOT NULL,    SPEC_TYPE_DESC VARCHAR(100),    ORG_NAME VARCHAR(100),    FOREIGN KEY(HADM_ID) REFERENCES ADMISSIONS(HADM_ID));',\n",
       " 'DROP TABLE IF EXISTS ICUSTAYS;',\n",
       " 'CREATE TABLE ICUSTAYS(    ROW_ID INT NOT NULL PRIMARY KEY,    SUBJECT_ID INT NOT NULL,    HADM_ID INT NOT NULL,    ICUSTAY_ID INT NOT NULL,        FIRST_CAREUNIT VARCHAR(20) NOT NULL,    LAST_CAREUNIT VARCHAR(20) NOT NULL,    FIRST_WARDID SMALLINT NOT NULL,    LAST_WARDID SMALLINT NOT NULL,        INTIME TIMESTAMP(0) NOT NULL,    OUTTIME TIMESTAMP(0),    FOREIGN KEY(HADM_ID) REFERENCES ADMISSIONS(HADM_ID));',\n",
       " 'DROP TABLE IF EXISTS TRANSFERS;',\n",
       " 'CREATE TABLE TRANSFERS(    ROW_ID INT NOT NULL PRIMARY KEY,    SUBJECT_ID INT NOT NULL,    HADM_ID INT NOT NULL,    ICUSTAY_ID INT,    EVENTTYPE VARCHAR(20) NOT NULL,    CAREUNIT VARCHAR(20),    WARDID SMALLINT,    INTIME TIMESTAMP(0) NOT NULL,    OUTTIME TIMESTAMP(0),    FOREIGN KEY(HADM_ID) REFERENCES ADMISSIONS(HADM_ID));',\n",
       " ';']"
      ]
     },
     "execution_count": 45,
     "metadata": {},
     "output_type": "execute_result"
    }
   ],
   "source": [
    "f = open(\"mimic_iii.sql\")\n",
    "lines = [l + ';' for l in \"\".join(f.readlines()).replace(\"\\n\", \"\").split(\";\")]\n",
    "lines"
   ]
  },
  {
   "cell_type": "code",
   "execution_count": 38,
   "metadata": {},
   "outputs": [
    {
     "name": "stdout",
     "output_type": "stream",
     "text": [
      "DROP TABLE IF EXISTS PATIENTS;\n"
     ]
    },
    {
     "ename": "DatabaseError",
     "evalue": "3730 (HY000): target: test.-.primary: vttablet: rpc error: code = Unknown desc = Cannot drop table 'PATIENTS' referenced by a foreign key constraint 'ADMISSIONS_ibfk_1' on table 'ADMISSIONS'. (errno 3730) (sqlstate HY000) (CallerID: g3k5rtdlq1vbv9x9rjz9): Sql: \"drop table if exists PATIENTS\", BindVars: {REDACTED}",
     "output_type": "error",
     "traceback": [
      "\u001b[0;31m---------------------------------------------------------------------------\u001b[0m",
      "\u001b[0;31mMySQLInterfaceError\u001b[0m                       Traceback (most recent call last)",
      "File \u001b[0;32m~/Library/Python/3.9/lib/python/site-packages/mysql/connector/connection_cext.py:661\u001b[0m, in \u001b[0;36mCMySQLConnection.cmd_query\u001b[0;34m(self, query, raw, buffered, raw_as_string)\u001b[0m\n\u001b[1;32m    660\u001b[0m         query \u001b[39m=\u001b[39m query\u001b[39m.\u001b[39mencode(\u001b[39m\"\u001b[39m\u001b[39mutf-8\u001b[39m\u001b[39m\"\u001b[39m)\n\u001b[0;32m--> 661\u001b[0m     \u001b[39mself\u001b[39;49m\u001b[39m.\u001b[39;49m_cmysql\u001b[39m.\u001b[39;49mquery(\n\u001b[1;32m    662\u001b[0m         query,\n\u001b[1;32m    663\u001b[0m         raw\u001b[39m=\u001b[39;49mraw,\n\u001b[1;32m    664\u001b[0m         buffered\u001b[39m=\u001b[39;49mbuffered,\n\u001b[1;32m    665\u001b[0m         raw_as_string\u001b[39m=\u001b[39;49mraw_as_string,\n\u001b[1;32m    666\u001b[0m         query_attrs\u001b[39m=\u001b[39;49m\u001b[39mself\u001b[39;49m\u001b[39m.\u001b[39;49mquery_attrs,\n\u001b[1;32m    667\u001b[0m     )\n\u001b[1;32m    668\u001b[0m \u001b[39mexcept\u001b[39;00m MySQLInterfaceError \u001b[39mas\u001b[39;00m err:\n",
      "\u001b[0;31mMySQLInterfaceError\u001b[0m: target: test.-.primary: vttablet: rpc error: code = Unknown desc = Cannot drop table 'PATIENTS' referenced by a foreign key constraint 'ADMISSIONS_ibfk_1' on table 'ADMISSIONS'. (errno 3730) (sqlstate HY000) (CallerID: g3k5rtdlq1vbv9x9rjz9): Sql: \"drop table if exists PATIENTS\", BindVars: {REDACTED}",
      "\nThe above exception was the direct cause of the following exception:\n",
      "\u001b[0;31mDatabaseError\u001b[0m                             Traceback (most recent call last)",
      "Cell \u001b[0;32mIn[38], line 12\u001b[0m\n\u001b[1;32m     10\u001b[0m \u001b[38;5;28;01mfor\u001b[39;00m l \u001b[38;5;129;01min\u001b[39;00m lines:\n\u001b[1;32m     11\u001b[0m     \u001b[38;5;28mprint\u001b[39m(l)\n\u001b[0;32m---> 12\u001b[0m     \u001b[43mcursor\u001b[49m\u001b[38;5;241;43m.\u001b[39;49m\u001b[43mexecute\u001b[49m\u001b[43m(\u001b[49m\u001b[43ml\u001b[49m\u001b[43m)\u001b[49m\n\u001b[1;32m     13\u001b[0m version \u001b[38;5;241m=\u001b[39m cursor\u001b[38;5;241m.\u001b[39mfetchone()\n\u001b[1;32m     14\u001b[0m display(version, cursor)\n",
      "File \u001b[0;32m~/Library/Python/3.9/lib/python/site-packages/mysql/connector/cursor_cext.py:374\u001b[0m, in \u001b[0;36mCMySQLCursor.execute\u001b[0;34m(self, operation, params, multi)\u001b[0m\n\u001b[1;32m    369\u001b[0m             \u001b[39mraise\u001b[39;00m ProgrammingError(\n\u001b[1;32m    370\u001b[0m                 \u001b[39m\"\u001b[39m\u001b[39mNot all parameters were used in the SQL statement\u001b[39m\u001b[39m\"\u001b[39m\n\u001b[1;32m    371\u001b[0m             )\n\u001b[1;32m    373\u001b[0m \u001b[39mtry\u001b[39;00m:\n\u001b[0;32m--> 374\u001b[0m     result \u001b[39m=\u001b[39m \u001b[39mself\u001b[39;49m\u001b[39m.\u001b[39;49m_cnx\u001b[39m.\u001b[39;49mcmd_query(\n\u001b[1;32m    375\u001b[0m         stmt,\n\u001b[1;32m    376\u001b[0m         raw\u001b[39m=\u001b[39;49m\u001b[39mself\u001b[39;49m\u001b[39m.\u001b[39;49m_raw,\n\u001b[1;32m    377\u001b[0m         buffered\u001b[39m=\u001b[39;49m\u001b[39mself\u001b[39;49m\u001b[39m.\u001b[39;49m_buffered,\n\u001b[1;32m    378\u001b[0m         raw_as_string\u001b[39m=\u001b[39;49m\u001b[39mself\u001b[39;49m\u001b[39m.\u001b[39;49m_raw_as_string,\n\u001b[1;32m    379\u001b[0m     )\n\u001b[1;32m    380\u001b[0m \u001b[39mexcept\u001b[39;00m MySQLInterfaceError \u001b[39mas\u001b[39;00m err:\n\u001b[1;32m    381\u001b[0m     \u001b[39mraise\u001b[39;00m get_mysql_exception(\n\u001b[1;32m    382\u001b[0m         msg\u001b[39m=\u001b[39merr\u001b[39m.\u001b[39mmsg, errno\u001b[39m=\u001b[39merr\u001b[39m.\u001b[39merrno, sqlstate\u001b[39m=\u001b[39merr\u001b[39m.\u001b[39msqlstate\n\u001b[1;32m    383\u001b[0m     ) \u001b[39mfrom\u001b[39;00m \u001b[39merr\u001b[39;00m\n",
      "File \u001b[0;32m~/Library/Python/3.9/lib/python/site-packages/mysql/connector/opentelemetry/context_propagation.py:74\u001b[0m, in \u001b[0;36mwith_context_propagation.<locals>.wrapper\u001b[0;34m(cnx, *args, **kwargs)\u001b[0m\n\u001b[1;32m     72\u001b[0m \u001b[39m\u001b[39m\u001b[39m\"\"\"Context propagation decorator.\"\"\"\u001b[39;00m\n\u001b[1;32m     73\u001b[0m \u001b[39mif\u001b[39;00m \u001b[39mnot\u001b[39;00m OTEL_ENABLED \u001b[39mor\u001b[39;00m \u001b[39mnot\u001b[39;00m cnx\u001b[39m.\u001b[39motel_context_propagation:\n\u001b[0;32m---> 74\u001b[0m     \u001b[39mreturn\u001b[39;00m method(cnx, \u001b[39m*\u001b[39;49margs, \u001b[39m*\u001b[39;49m\u001b[39m*\u001b[39;49mkwargs)\n\u001b[1;32m     76\u001b[0m current_span \u001b[39m=\u001b[39m trace\u001b[39m.\u001b[39mget_current_span()\n\u001b[1;32m     77\u001b[0m tp_header \u001b[39m=\u001b[39m \u001b[39mNone\u001b[39;00m\n",
      "File \u001b[0;32m~/Library/Python/3.9/lib/python/site-packages/mysql/connector/connection_cext.py:669\u001b[0m, in \u001b[0;36mCMySQLConnection.cmd_query\u001b[0;34m(self, query, raw, buffered, raw_as_string)\u001b[0m\n\u001b[1;32m    661\u001b[0m     \u001b[39mself\u001b[39m\u001b[39m.\u001b[39m_cmysql\u001b[39m.\u001b[39mquery(\n\u001b[1;32m    662\u001b[0m         query,\n\u001b[1;32m    663\u001b[0m         raw\u001b[39m=\u001b[39mraw,\n\u001b[0;32m   (...)\u001b[0m\n\u001b[1;32m    666\u001b[0m         query_attrs\u001b[39m=\u001b[39m\u001b[39mself\u001b[39m\u001b[39m.\u001b[39mquery_attrs,\n\u001b[1;32m    667\u001b[0m     )\n\u001b[1;32m    668\u001b[0m \u001b[39mexcept\u001b[39;00m MySQLInterfaceError \u001b[39mas\u001b[39;00m err:\n\u001b[0;32m--> 669\u001b[0m     \u001b[39mraise\u001b[39;00m get_mysql_exception(\n\u001b[1;32m    670\u001b[0m         err\u001b[39m.\u001b[39merrno, msg\u001b[39m=\u001b[39merr\u001b[39m.\u001b[39mmsg, sqlstate\u001b[39m=\u001b[39merr\u001b[39m.\u001b[39msqlstate\n\u001b[1;32m    671\u001b[0m     ) \u001b[39mfrom\u001b[39;00m \u001b[39merr\u001b[39;00m\n\u001b[1;32m    672\u001b[0m \u001b[39mexcept\u001b[39;00m \u001b[39mAttributeError\u001b[39;00m \u001b[39mas\u001b[39;00m err:\n\u001b[1;32m    673\u001b[0m     addr \u001b[39m=\u001b[39m (\n\u001b[1;32m    674\u001b[0m         \u001b[39mself\u001b[39m\u001b[39m.\u001b[39m_unix_socket \u001b[39mif\u001b[39;00m \u001b[39mself\u001b[39m\u001b[39m.\u001b[39m_unix_socket \u001b[39melse\u001b[39;00m \u001b[39mf\u001b[39m\u001b[39m\"\u001b[39m\u001b[39m{\u001b[39;00m\u001b[39mself\u001b[39m\u001b[39m.\u001b[39m_host\u001b[39m}\u001b[39;00m\u001b[39m:\u001b[39m\u001b[39m{\u001b[39;00m\u001b[39mself\u001b[39m\u001b[39m.\u001b[39m_port\u001b[39m}\u001b[39;00m\u001b[39m\"\u001b[39m\n\u001b[1;32m    675\u001b[0m     )\n",
      "\u001b[0;31mDatabaseError\u001b[0m: 3730 (HY000): target: test.-.primary: vttablet: rpc error: code = Unknown desc = Cannot drop table 'PATIENTS' referenced by a foreign key constraint 'ADMISSIONS_ibfk_1' on table 'ADMISSIONS'. (errno 3730) (sqlstate HY000) (CallerID: g3k5rtdlq1vbv9x9rjz9): Sql: \"drop table if exists PATIENTS\", BindVars: {REDACTED}"
     ]
    }
   ],
   "source": [
    "cnx = mysql.connector.connect(\n",
    "    host=os.getenv(\"DB_HOST\"),\n",
    "    user=os.getenv(\"DB_USERNAME\"),\n",
    "    password= os.getenv(\"DB_PASSWORD\"),\n",
    "    database=os.getenv(\"DB_NAME\"),)\n",
    "\n",
    "cursor = cnx.cursor()\n",
    "# cursor.execute(f)\n",
    "# cursor.execute(f)\n",
    "for l in lines:\n",
    "    print(l)\n",
    "    cursor.execute(l)\n",
    "version = cursor.fetchone()\n",
    "display(version, cursor)\n",
    "\n",
    "cnx.close()\n"
   ]
  },
  {
   "cell_type": "code",
   "execution_count": null,
   "metadata": {},
   "outputs": [],
   "source": []
  }
 ],
 "metadata": {
  "kernelspec": {
   "display_name": "Python 3.9.6 64-bit",
   "language": "python",
   "name": "python3"
  },
  "language_info": {
   "codemirror_mode": {
    "name": "ipython",
    "version": 3
   },
   "file_extension": ".py",
   "mimetype": "text/x-python",
   "name": "python",
   "nbconvert_exporter": "python",
   "pygments_lexer": "ipython3",
   "version": "3.9.6"
  },
  "orig_nbformat": 4,
  "vscode": {
   "interpreter": {
    "hash": "31f2aee4e71d21fbe5cf8b01ff0e069b9275f58929596ceb00d14d90e3e16cd6"
   }
  }
 },
 "nbformat": 4,
 "nbformat_minor": 2
}
