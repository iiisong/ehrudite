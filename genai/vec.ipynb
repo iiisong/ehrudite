{
 "cells": [
  {
   "cell_type": "code",
   "execution_count": 24,
   "metadata": {},
   "outputs": [],
   "source": [
    "import torch\n",
    "import numpy as np\n",
    "import pandas as pd"
   ]
  },
  {
   "cell_type": "code",
   "execution_count": 9,
   "metadata": {},
   "outputs": [],
   "source": [
    "from sentence_transformers import SentenceTransformer, util\n",
    "model = SentenceTransformer('distilbert-multilingual-nli-stsb-quora-ranking')"
   ]
  },
  {
   "cell_type": "code",
   "execution_count": 11,
   "metadata": {},
   "outputs": [],
   "source": [
    "outfile = open(\"../models/mimic-iii/raw_text_questions.txt\", 'r')\n",
    "# for entry in openMessages:\n",
    "corpus = outfile.read().split(\"\\n\")\n",
    "\n",
    "corpus_embeddings = model.encode(corpus, convert_to_tensor=True)"
   ]
  },
  {
   "cell_type": "code",
   "execution_count": 23,
   "metadata": {},
   "outputs": [],
   "source": [
    "ce = corpus_embeddings.cpu().numpy()\n",
    "np.savetxt(\"../models/mimic-iii/corpus.csv\", ce, delimiter=',')"
   ]
  },
  {
   "cell_type": "code",
   "execution_count": 43,
   "metadata": {},
   "outputs": [
    {
     "name": "stdout",
     "output_type": "stream",
     "text": [
      "\n",
      "\n",
      "======================\n",
      "\n",
      "\n",
      "Query: what are the methods of consumption of clotrimazole?\n",
      "\n",
      "Top 10 most similar sentences in corpus:\n",
      "what are the ways to consume sterile water? (Score: 1.0000)\n",
      "what is the intake method of the methotrexate sodium p.f.? (Score: 0.9595)\n",
      "what is the ingesting method of nicotine lozenge? (Score: 0.9588)\n",
      "what are the ways to consume caspofungin? (Score: 0.9553)\n",
      "tell me the intake method for sirolimus? (Score: 0.9547)\n",
      "what is the ingesting method of testosterone 5mg patch? (Score: 0.9547)\n",
      "tell me the intake method for readi-cat 2 (barium sulfate 2% suspension)? (Score: 0.9546)\n",
      "what is the ingesting method of methimazole? (Score: 0.9534)\n",
      "what are the methods of consumption of insulin human nph? (Score: 0.9525)\n",
      "what are the ways to consume prochlorperazine maleate? (Score: 0.9488)\n"
     ]
    },
    {
     "data": {
      "text/plain": [
       "'\\n# Alternatively, we can also use util.semantic_search to perform cosine similarty + topk\\nhits = util.semantic_search(query_embedding, corpus_embeddings, top_k=5)\\nhits = hits[0]      #Get the hits for the first query\\nfor hit in hits:\\n    print(corpus[hit[\\'corpus_id\\']], \"(Score: {:.4f})\".format(hit[\\'score\\']))\\n'"
      ]
     },
     "execution_count": 43,
     "metadata": {},
     "output_type": "execute_result"
    }
   ],
   "source": [
    "query = \"what are the methods of consumption of clotrimazole?\"\n",
    "top_k = min(10, len(corpus))\n",
    "\n",
    "query_embedding = model.encode(query, convert_to_tensor=True).to('cpu').to(torch.float32)\n",
    "\n",
    "corpus_embeddings = torch.tensor(pd.read_csv(\"../models/mimic-iii/corpus.csv\").values).to(torch.float32)\n",
    "\n",
    "# We use cosine-similarity and torch.topk to find the highest 5 scores\n",
    "cos_scores = util.cos_sim(query_embedding, corpus_embeddings)[0]\n",
    "top_results = torch.topk(cos_scores, k=top_k)\n",
    "\n",
    "print(\"\\n\\n======================\\n\\n\")\n",
    "print(\"Query:\", query)\n",
    "print(\"\\nTop 10 most similar sentences in corpus:\")\n",
    "\n",
    "for score, idx in zip(top_results[0], top_results[1]):\n",
    "    print(corpus[idx], \"(Score: {:.4f})\".format(score))\n",
    "\n",
    "\"\"\"\n",
    "# Alternatively, we can also use util.semantic_search to perform cosine similarty + topk\n",
    "hits = util.semantic_search(query_embedding, corpus_embeddings, top_k=5)\n",
    "hits = hits[0]      #Get the hits for the first query\n",
    "for hit in hits:\n",
    "    print(corpus[hit['corpus_id']], \"(Score: {:.4f})\".format(hit['score']))\n",
    "\"\"\""
   ]
  },
  {
   "cell_type": "code",
   "execution_count": 42,
   "metadata": {},
   "outputs": [
    {
     "data": {
      "text/plain": [
       "torch.return_types.topk(\n",
       "values=tensor([0.9383, 0.9317, 0.9288, 0.9278, 0.9278, 0.9265, 0.9241, 0.9226, 0.9215,\n",
       "        0.9191], dtype=torch.float32),\n",
       "indices=tensor([6443, 6463, 6466, 6472, 6469, 6458, 6454, 6442, 6448, 6445]))"
      ]
     },
     "execution_count": 42,
     "metadata": {},
     "output_type": "execute_result"
    }
   ],
   "source": [
    "top_results"
   ]
  },
  {
   "cell_type": "code",
   "execution_count": null,
   "metadata": {},
   "outputs": [],
   "source": []
  }
 ],
 "metadata": {
  "kernelspec": {
   "display_name": "Python 3.9.6 64-bit",
   "language": "python",
   "name": "python3"
  },
  "language_info": {
   "codemirror_mode": {
    "name": "ipython",
    "version": 3
   },
   "file_extension": ".py",
   "mimetype": "text/x-python",
   "name": "python",
   "nbconvert_exporter": "python",
   "pygments_lexer": "ipython3",
   "version": "3.9.6"
  },
  "orig_nbformat": 4,
  "vscode": {
   "interpreter": {
    "hash": "31f2aee4e71d21fbe5cf8b01ff0e069b9275f58929596ceb00d14d90e3e16cd6"
   }
  }
 },
 "nbformat": 4,
 "nbformat_minor": 2
}
