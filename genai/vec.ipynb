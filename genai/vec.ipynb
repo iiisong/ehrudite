{
 "cells": [
  {
   "cell_type": "code",
   "execution_count": 24,
   "metadata": {},
   "outputs": [],
   "source": [
    "import torch\n",
    "import numpy as np\n",
    "import pandas as pd"
   ]
  },
  {
   "cell_type": "code",
   "execution_count": 9,
   "metadata": {},
   "outputs": [],
   "source": [
    "from sentence_transformers import SentenceTransformer, util\n",
    "model = SentenceTransformer('distilbert-multilingual-nli-stsb-quora-ranking')"
   ]
  },
  {
   "cell_type": "code",
   "execution_count": 11,
   "metadata": {},
   "outputs": [],
   "source": [
    "outfile = open(\"../models/mimic-iii/raw_text_questions.txt\", 'r')\n",
    "# for entry in openMessages:\n",
    "corpus = outfile.read().split(\"\\n\")\n",
    "\n",
    "corpus_embeddings = model.encode(corpus, convert_to_tensor=True)"
   ]
  },
  {
   "cell_type": "code",
   "execution_count": 23,
   "metadata": {},
   "outputs": [],
   "source": [
    "ce = corpus_embeddings.cpu().numpy()\n",
    "np.savetxt(\"../models/mimic-iii/corpus.csv\", ce, delimiter=',')"
   ]
  },
  {
   "cell_type": "code",
   "execution_count": 38,
   "metadata": {},
   "outputs": [
    {
     "name": "stdout",
     "output_type": "stream",
     "text": [
      "\n",
      "\n",
      "======================\n",
      "\n",
      "\n",
      "Query: what percentile is the value of 1.1 in a creatinine lab test amongst patients of the same age as patient 21814 on the current hospital visit?\n",
      "\n",
      "Top 10 most similar sentences in corpus:\n",
      "what was the last value on the sodium lab test of patient 42956? (Score: 0.9698)\n",
      "hmm.. what was patient 49295's last ph until 6 months ago? (Score: 0.9693)\n",
      "what was the percentile of 18.9 in the rdw lab test with the same age of patient 7112 during this hospital encounter? (Score: 0.9636)\n",
      "what's patient 51675's maximum value of monocytes until 40 months ago? (Score: 0.9632)\n",
      "what is the percentile hematocrit value of 32.7 among patients of the same age as patient 41393 when they came to the hospital last time? (Score: 0.9619)\n",
      "hmm.. what was patient 97733's last mchc since 12/2105? (Score: 0.9612)\n",
      "until 03/2104, what was the average mcv value for patient 69289? (Score: 0.9611)\n",
      "what is the percentile value of creatinine 0.3 among patients of the same age as patient 88401 on the first hospital visit? (Score: 0.9609)\n",
      "compared to last measured on the last hospital visit, was the value of the hematocrit from patient 13686 less than the value first measured on the last hospital visit? (Score: 0.9608)\n",
      "what percentile is the anion gap of 12.0 for patients of the same age as patient 97330 in their current hospital encounter? (Score: 0.9597)\n"
     ]
    },
    {
     "data": {
      "text/plain": [
       "'\\n# Alternatively, we can also use util.semantic_search to perform cosine similarty + topk\\nhits = util.semantic_search(query_embedding, corpus_embeddings, top_k=5)\\nhits = hits[0]      #Get the hits for the first query\\nfor hit in hits:\\n    print(corpus[hit[\\'corpus_id\\']], \"(Score: {:.4f})\".format(hit[\\'score\\']))\\n'"
      ]
     },
     "execution_count": 38,
     "metadata": {},
     "output_type": "execute_result"
    }
   ],
   "source": [
    "query = \"what percentile is the value of 1.1 in a creatinine lab test amongst patients of the same age as patient 21814 on the current hospital visit?\"\n",
    "top_k = min(10, len(corpus))\n",
    "\n",
    "query_embedding = model.encode(query, convert_to_tensor=True).to('cpu').to(torch.float32)\n",
    "\n",
    "corpus_embeddings = torch.tensor(pd.read_csv(\"../models/mimic-iii/corpus.csv\").values).to(torch.float32)\n",
    "\n",
    "# We use cosine-similarity and torch.topk to find the highest 5 scores\n",
    "cos_scores = util.cos_sim(query_embedding, corpus_embeddings)[0]\n",
    "top_results = torch.topk(cos_scores, k=top_k)\n",
    "\n",
    "print(\"\\n\\n======================\\n\\n\")\n",
    "print(\"Query:\", query)\n",
    "print(\"\\nTop 10 most similar sentences in corpus:\")\n",
    "\n",
    "for score, idx in zip(top_results[0], top_results[1]):\n",
    "    print(corpus[idx], \"(Score: {:.4f})\".format(score))\n",
    "\n",
    "\"\"\"\n",
    "# Alternatively, we can also use util.semantic_search to perform cosine similarty + topk\n",
    "hits = util.semantic_search(query_embedding, corpus_embeddings, top_k=5)\n",
    "hits = hits[0]      #Get the hits for the first query\n",
    "for hit in hits:\n",
    "    print(corpus[hit['corpus_id']], \"(Score: {:.4f})\".format(hit['score']))\n",
    "\"\"\""
   ]
  },
  {
   "cell_type": "code",
   "execution_count": 40,
   "metadata": {},
   "outputs": [
    {
     "data": {
      "text/plain": [
       "torch.return_types.topk(\n",
       "values=tensor([0.9698, 0.9693, 0.9636, 0.9632, 0.9619, 0.9612, 0.9611, 0.9609, 0.9608,\n",
       "        0.9597], dtype=torch.float32),\n",
       "indices=tensor([2373, 2368,  914, 2503,  913, 2310, 2514,  872,  616,  894]))"
      ]
     },
     "execution_count": 40,
     "metadata": {},
     "output_type": "execute_result"
    }
   ],
   "source": [
    "top_results"
   ]
  },
  {
   "cell_type": "code",
   "execution_count": null,
   "metadata": {},
   "outputs": [],
   "source": []
  }
 ],
 "metadata": {
  "kernelspec": {
   "display_name": "Python 3.9.6 64-bit",
   "language": "python",
   "name": "python3"
  },
  "language_info": {
   "codemirror_mode": {
    "name": "ipython",
    "version": 3
   },
   "file_extension": ".py",
   "mimetype": "text/x-python",
   "name": "python",
   "nbconvert_exporter": "python",
   "pygments_lexer": "ipython3",
   "version": "3.9.6"
  },
  "orig_nbformat": 4,
  "vscode": {
   "interpreter": {
    "hash": "31f2aee4e71d21fbe5cf8b01ff0e069b9275f58929596ceb00d14d90e3e16cd6"
   }
  }
 },
 "nbformat": 4,
 "nbformat_minor": 2
}
