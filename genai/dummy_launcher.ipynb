{
 "cells": [
  {
   "cell_type": "markdown",
   "metadata": {},
   "source": [
    "# this should be in backend\n",
    "testing here for convenience"
   ]
  },
  {
   "cell_type": "code",
   "execution_count": 8,
   "metadata": {},
   "outputs": [],
   "source": [
    "import os\n",
    "import json\n",
    "import pandas as pd\n",
    "\n",
    "import torch\n",
    "from openai import OpenAI\n",
    "from sentence_transformers import SentenceTransformer, util\n",
    "\n",
    "import mysql.connector\n",
    "from dotenv import load_dotenv, find_dotenv\n",
    "from sqlalchemy import create_engine\n",
    "from sqlalchemy import text as sqltext\n",
    "load_dotenv(find_dotenv())\n",
    "\n",
    "from svs import SVS\n",
    "from queryOpenAI import run_engine"
   ]
  },
  {
   "cell_type": "code",
   "execution_count": 2,
   "metadata": {},
   "outputs": [],
   "source": [
    "host = os.getenv(\"DB_HOST\")\n",
    "user = os.getenv(\"DB_USERNAME\")\n",
    "password = os.getenv(\"DB_PASSWORD\")\n",
    "database = os.getenv(\"DB_NAME\")"
   ]
  },
  {
   "cell_type": "code",
   "execution_count": 3,
   "metadata": {},
   "outputs": [
    {
     "name": "stderr",
     "output_type": "stream",
     "text": [
      "/Users/isaac/Library/Python/3.9/lib/python/site-packages/torch/_utils.py:831: UserWarning: TypedStorage is deprecated. It will be removed in the future and UntypedStorage will be the only storage class. This should only matter to you if you are using storages directly.  To access UntypedStorage directly, use tensor.untyped_storage() instead of tensor.storage()\n",
      "  return self.fget.__get__(instance, owner)()\n"
     ]
    }
   ],
   "source": [
    "# preloading slow things\n",
    "model = SentenceTransformer('distilbert-multilingual-nli-stsb-quora-ranking')\n",
    "f = open('../models/mimic-iii/qqdict.json')\n",
    "qqdict = json.load(f)\n",
    "corpus_embedding = torch.tensor(pd.read_csv(\"../models/mimic-iii/corpus.csv\").values).to(torch.float32)\n",
    "\n",
    "client = OpenAI(api_key=os.getenv(\"OAI_KEY\"))"
   ]
  },
  {
   "cell_type": "code",
   "execution_count": 4,
   "metadata": {},
   "outputs": [
    {
     "name": "stdout",
     "output_type": "stream",
     "text": [
      "2024-02-11 04:57:16,897 INFO sqlalchemy.engine.Engine SELECT DATABASE()\n",
      "2024-02-11 04:57:16,898 INFO sqlalchemy.engine.Engine [raw sql] {}\n",
      "2024-02-11 04:57:17,070 INFO sqlalchemy.engine.Engine SELECT @@sql_mode\n",
      "2024-02-11 04:57:17,071 INFO sqlalchemy.engine.Engine [raw sql] {}\n",
      "2024-02-11 04:57:17,143 INFO sqlalchemy.engine.Engine SELECT @@lower_case_table_names\n",
      "2024-02-11 04:57:17,143 INFO sqlalchemy.engine.Engine [raw sql] {}\n"
     ]
    }
   ],
   "source": [
    "conn_string = f'mysql+mysqlconnector://{user}:{password}@{host}/{database}'\n",
    "engine = create_engine(conn_string, echo=True)\n",
    "conn = engine.connect()"
   ]
  },
  {
   "cell_type": "code",
   "execution_count": 14,
   "metadata": {},
   "outputs": [],
   "source": [
    "question = \"what is the change in the weight of patient 6215 from the second value measured on the first hospital visit compared to the first value measured on the first hospital visit?\""
   ]
  },
  {
   "cell_type": "code",
   "execution_count": 16,
   "metadata": {},
   "outputs": [
    {
     "name": "stdout",
     "output_type": "stream",
     "text": [
      "# Q: \thow much does patient 15794 change in weight last measured on the current hospital visit compared to the second to last value measured on the current hospital visit?\n",
      "# A: \tselect ( select chartevents.valuenum from chartevents where chartevents.icustay_id in ( select icustays.icustay_id from icustays where icustays.hadm_id in ( select admissions.hadm_id from admissions where admissions.subject_id = 15794 and admissions.dischtime is null ) ) and chartevents.itemid in ( select d_items.itemid from d_items where d_items.label = 'admit wt' and d_items.linksto = 'chartevents' ) order by chartevents.charttime desc limit 1 ) - ( select chartevents.valuenum from chartevents where chartevents.icustay_id in ( select icustays.icustay_id from icustays where icustays.hadm_id in ( select admissions.hadm_id from admissions where admissions.subject_id = 15794 and admissions.dischtime is null ) ) and chartevents.itemid in ( select d_items.itemid from d_items where d_items.label = 'admit wt' and d_items.linksto = 'chartevents' ) order by chartevents.charttime desc limit 1 offset 1 )\n",
      "# Q: \thow much was patient 15794's weight changed second measured on the current hospital visit compared to the first value measured on the current hospital visit?\n",
      "# A: \tselect ( select chartevents.valuenum from chartevents where chartevents.icustay_id in ( select icustays.icustay_id from icustays where icustays.hadm_id in ( select admissions.hadm_id from admissions where admissions.subject_id = 15794 and admissions.dischtime is null ) ) and chartevents.itemid in ( select d_items.itemid from d_items where d_items.label = 'admit wt' and d_items.linksto = 'chartevents' ) order by chartevents.charttime asc limit 1 offset 1 ) - ( select chartevents.valuenum from chartevents where chartevents.icustay_id in ( select icustays.icustay_id from icustays where icustays.hadm_id in ( select admissions.hadm_id from admissions where admissions.subject_id = 15794 and admissions.dischtime is null ) ) and chartevents.itemid in ( select d_items.itemid from d_items where d_items.label = 'admit wt' and d_items.linksto = 'chartevents' ) order by chartevents.charttime asc limit 1 )\n",
      "# Q: \thow much weight is patient 31300's change last measured on the last hospital visit compared to the second to last value measured on the last hospital visit?\n",
      "# A: \tselect ( select chartevents.valuenum from chartevents where chartevents.icustay_id in ( select icustays.icustay_id from icustays where icustays.hadm_id in ( select admissions.hadm_id from admissions where admissions.subject_id = 31300 and admissions.dischtime is not null order by admissions.admittime desc limit 1 ) ) and chartevents.itemid in ( select d_items.itemid from d_items where d_items.label = 'admit wt' and d_items.linksto = 'chartevents' ) order by chartevents.charttime desc limit 1 ) - ( select chartevents.valuenum from chartevents where chartevents.icustay_id in ( select icustays.icustay_id from icustays where icustays.hadm_id in ( select admissions.hadm_id from admissions where admissions.subject_id = 31300 and admissions.dischtime is not null order by admissions.admittime desc limit 1 ) ) and chartevents.itemid in ( select d_items.itemid from d_items where d_items.label = 'admit wt' and d_items.linksto = 'chartevents' ) order by chartevents.charttime desc limit 1 offset 1 )\n",
      "# Q: \thow much is the change in weight of patient 739 measured at 2105-12-31 16:30:00 compared to the value measured at 2105-12-30 04:00:00?\n",
      "# A: \tselect ( select chartevents.valuenum from chartevents where chartevents.icustay_id in ( select icustays.icustay_id from icustays where icustays.hadm_id in ( select admissions.hadm_id from admissions where admissions.subject_id = 739 ) ) and chartevents.itemid in ( select d_items.itemid from d_items where d_items.label = 'admit wt' and d_items.linksto = 'chartevents' ) and chartevents.charttime = '2105-12-31 16:30:00' ) - ( select chartevents.valuenum from chartevents where chartevents.icustay_id in ( select icustays.icustay_id from icustays where icustays.hadm_id in ( select admissions.hadm_id from admissions where admissions.subject_id = 739 ) ) and chartevents.itemid in ( select d_items.itemid from d_items where d_items.label = 'admit wt' and d_items.linksto = 'chartevents' ) and chartevents.charttime = '2105-12-30 04:00:00' )\n",
      "# Q: \twhat was the difference in the weight of patient 2518 measured at 2105-12-30 09:00:00 compared to the value measured at 2105-12-29 21:00:00.\n",
      "# A: \tselect ( select chartevents.valuenum from chartevents where chartevents.icustay_id in ( select icustays.icustay_id from icustays where icustays.hadm_id in ( select admissions.hadm_id from admissions where admissions.subject_id = 2518 ) ) and chartevents.itemid in ( select d_items.itemid from d_items where d_items.label = 'admit wt' and d_items.linksto = 'chartevents' ) and chartevents.charttime = '2105-12-30 09:00:00' ) - ( select chartevents.valuenum from chartevents where chartevents.icustay_id in ( select icustays.icustay_id from icustays where icustays.hadm_id in ( select admissions.hadm_id from admissions where admissions.subject_id = 2518 ) ) and chartevents.itemid in ( select d_items.itemid from d_items where d_items.label = 'admit wt' and d_items.linksto = 'chartevents' ) and chartevents.charttime = '2105-12-29 21:00:00' )\n",
      "# Q: \thow much does patient 17398 weigh difference last measured on the last hospital visit compared to the second to last value measured on the last hospital visit?\n",
      "# A: \tselect ( select chartevents.valuenum from chartevents where chartevents.icustay_id in ( select icustays.icustay_id from icustays where icustays.hadm_id in ( select admissions.hadm_id from admissions where admissions.subject_id = 17398 and admissions.dischtime is not null order by admissions.admittime desc limit 1 ) ) and chartevents.itemid in ( select d_items.itemid from d_items where d_items.label = 'admit wt' and d_items.linksto = 'chartevents' ) order by chartevents.charttime desc limit 1 ) - ( select chartevents.valuenum from chartevents where chartevents.icustay_id in ( select icustays.icustay_id from icustays where icustays.hadm_id in ( select admissions.hadm_id from admissions where admissions.subject_id = 17398 and admissions.dischtime is not null order by admissions.admittime desc limit 1 ) ) and chartevents.itemid in ( select d_items.itemid from d_items where d_items.label = 'admit wt' and d_items.linksto = 'chartevents' ) order by chartevents.charttime desc limit 1 offset 1 )\n",
      "# Q: \texactly how much is patient 25461's weight change last measured on the last hospital visit compared to the first value measured on the last hospital visit?\n",
      "# A: \tselect ( select chartevents.valuenum from chartevents where chartevents.icustay_id in ( select icustays.icustay_id from icustays where icustays.hadm_id in ( select admissions.hadm_id from admissions where admissions.subject_id = 25461 and admissions.dischtime is not null order by admissions.admittime desc limit 1 ) ) and chartevents.itemid in ( select d_items.itemid from d_items where d_items.label = 'admit wt' and d_items.linksto = 'chartevents' ) order by chartevents.charttime desc limit 1 ) - ( select chartevents.valuenum from chartevents where chartevents.icustay_id in ( select icustays.icustay_id from icustays where icustays.hadm_id in ( select admissions.hadm_id from admissions where admissions.subject_id = 25461 and admissions.dischtime is not null order by admissions.admittime desc limit 1 ) ) and chartevents.itemid in ( select d_items.itemid from d_items where d_items.label = 'admit wt' and d_items.linksto = 'chartevents' ) order by chartevents.charttime asc limit 1 )\n",
      "# Q: \thow much changes in the weight of patient 28966 last measured on the last hospital visit compared to the second to last value measured on the last hospital visit?\n",
      "# A: \tselect ( select chartevents.valuenum from chartevents where chartevents.icustay_id in ( select icustays.icustay_id from icustays where icustays.hadm_id in ( select admissions.hadm_id from admissions where admissions.subject_id = 28966 and admissions.dischtime is not null order by admissions.admittime desc limit 1 ) ) and chartevents.itemid in ( select d_items.itemid from d_items where d_items.label = 'admit wt' and d_items.linksto = 'chartevents' ) order by chartevents.charttime desc limit 1 ) - ( select chartevents.valuenum from chartevents where chartevents.icustay_id in ( select icustays.icustay_id from icustays where icustays.hadm_id in ( select admissions.hadm_id from admissions where admissions.subject_id = 28966 and admissions.dischtime is not null order by admissions.admittime desc limit 1 ) ) and chartevents.itemid in ( select d_items.itemid from d_items where d_items.label = 'admit wt' and d_items.linksto = 'chartevents' ) order by chartevents.charttime desc limit 1 offset 1 )\n",
      "# Q: \twhat was the weight change in patient 31880 last measured on the first hospital visit compared to the second to last value measured on the first hospital visit?\n",
      "# A: \tselect ( select chartevents.valuenum from chartevents where chartevents.icustay_id in ( select icustays.icustay_id from icustays where icustays.hadm_id in ( select admissions.hadm_id from admissions where admissions.subject_id = 31880 and admissions.dischtime is not null order by admissions.admittime asc limit 1 ) ) and chartevents.itemid in ( select d_items.itemid from d_items where d_items.label = 'admit wt' and d_items.linksto = 'chartevents' ) order by chartevents.charttime desc limit 1 ) - ( select chartevents.valuenum from chartevents where chartevents.icustay_id in ( select icustays.icustay_id from icustays where icustays.hadm_id in ( select admissions.hadm_id from admissions where admissions.subject_id = 31880 and admissions.dischtime is not null order by admissions.admittime asc limit 1 ) ) and chartevents.itemid in ( select d_items.itemid from d_items where d_items.label = 'admit wt' and d_items.linksto = 'chartevents' ) order by chartevents.charttime desc limit 1 offset 1 )\n",
      "# Q: \thow many changes in patient 22204's weight last measured on the first hospital visit compared to the value first measured on the first hospital visit?\n",
      "# A: \tselect ( select chartevents.valuenum from chartevents where chartevents.icustay_id in ( select icustays.icustay_id from icustays where icustays.hadm_id in ( select admissions.hadm_id from admissions where admissions.subject_id = 22204 and admissions.dischtime is not null order by admissions.admittime asc limit 1 ) ) and chartevents.itemid in ( select d_items.itemid from d_items where d_items.label = 'admit wt' and d_items.linksto = 'chartevents' ) order by chartevents.charttime desc limit 1 ) - ( select chartevents.valuenum from chartevents where chartevents.icustay_id in ( select icustays.icustay_id from icustays where icustays.hadm_id in ( select admissions.hadm_id from admissions where admissions.subject_id = 22204 and admissions.dischtime is not null order by admissions.admittime asc limit 1 ) ) and chartevents.itemid in ( select d_items.itemid from d_items where d_items.label = 'admit wt' and d_items.linksto = 'chartevents' ) order by chartevents.charttime asc limit 1 )\n",
      "# Q: \thow much different does patient 9297's weight differ last measured on the first hospital visit compared to the second to last value measured on the first hospital visit?\n",
      "# A: \tselect ( select chartevents.valuenum from chartevents where chartevents.icustay_id in ( select icustays.icustay_id from icustays where icustays.hadm_id in ( select admissions.hadm_id from admissions where admissions.subject_id = 9297 and admissions.dischtime is not null order by admissions.admittime asc limit 1 ) ) and chartevents.itemid in ( select d_items.itemid from d_items where d_items.label = 'admit wt' and d_items.linksto = 'chartevents' ) order by chartevents.charttime desc limit 1 ) - ( select chartevents.valuenum from chartevents where chartevents.icustay_id in ( select icustays.icustay_id from icustays where icustays.hadm_id in ( select admissions.hadm_id from admissions where admissions.subject_id = 9297 and admissions.dischtime is not null order by admissions.admittime asc limit 1 ) ) and chartevents.itemid in ( select d_items.itemid from d_items where d_items.label = 'admit wt' and d_items.linksto = 'chartevents' ) order by chartevents.charttime desc limit 1 offset 1 )\n",
      "# Q: \thow much of a difference is there in patient 2518's weight last measured on the current hospital visit compared to the second to last value measured on the current hospital visit?\n",
      "# A: \tselect ( select chartevents.valuenum from chartevents where chartevents.icustay_id in ( select icustays.icustay_id from icustays where icustays.hadm_id in ( select admissions.hadm_id from admissions where admissions.subject_id = 2518 and admissions.dischtime is null ) ) and chartevents.itemid in ( select d_items.itemid from d_items where d_items.label = 'admit wt' and d_items.linksto = 'chartevents' ) order by chartevents.charttime desc limit 1 ) - ( select chartevents.valuenum from chartevents where chartevents.icustay_id in ( select icustays.icustay_id from icustays where icustays.hadm_id in ( select admissions.hadm_id from admissions where admissions.subject_id = 2518 and admissions.dischtime is null ) ) and chartevents.itemid in ( select d_items.itemid from d_items where d_items.label = 'admit wt' and d_items.linksto = 'chartevents' ) order by chartevents.charttime desc limit 1 offset 1 )\n",
      "# Q: \thow much is the difference in weight of patient 14458 last measured on the first hospital visit compared to the first value measured on the first hospital visit?\n",
      "# A: \tselect ( select chartevents.valuenum from chartevents where chartevents.icustay_id in ( select icustays.icustay_id from icustays where icustays.hadm_id in ( select admissions.hadm_id from admissions where admissions.subject_id = 14458 and admissions.dischtime is not null order by admissions.admittime asc limit 1 ) ) and chartevents.itemid in ( select d_items.itemid from d_items where d_items.label = 'admit wt' and d_items.linksto = 'chartevents' ) order by chartevents.charttime desc limit 1 ) - ( select chartevents.valuenum from chartevents where chartevents.icustay_id in ( select icustays.icustay_id from icustays where icustays.hadm_id in ( select admissions.hadm_id from admissions where admissions.subject_id = 14458 and admissions.dischtime is not null order by admissions.admittime asc limit 1 ) ) and chartevents.itemid in ( select d_items.itemid from d_items where d_items.label = 'admit wt' and d_items.linksto = 'chartevents' ) order by chartevents.charttime asc limit 1 )\n",
      "# Q: \twhat is the difference between the weights second measured on the first hospital visit compared to the first value measured on the first hospital visit of patient 27739?\n",
      "# A: \tselect ( select chartevents.valuenum from chartevents where chartevents.icustay_id in ( select icustays.icustay_id from icustays where icustays.hadm_id in ( select admissions.hadm_id from admissions where admissions.subject_id = 27739 and admissions.dischtime is not null order by admissions.admittime asc limit 1 ) ) and chartevents.itemid in ( select d_items.itemid from d_items where d_items.label = 'admit wt' and d_items.linksto = 'chartevents' ) order by chartevents.charttime asc limit 1 offset 1 ) - ( select chartevents.valuenum from chartevents where chartevents.icustay_id in ( select icustays.icustay_id from icustays where icustays.hadm_id in ( select admissions.hadm_id from admissions where admissions.subject_id = 27739 and admissions.dischtime is not null order by admissions.admittime asc limit 1 ) ) and chartevents.itemid in ( select d_items.itemid from d_items where d_items.label = 'admit wt' and d_items.linksto = 'chartevents' ) order by chartevents.charttime asc limit 1 )\n",
      "# Q: \twhat difference is there in the weight of patient 14502 second measured on the last hospital visit compared to the first value measured on the last hospital visit?\n",
      "# A: \tselect ( select chartevents.valuenum from chartevents where chartevents.icustay_id in ( select icustays.icustay_id from icustays where icustays.hadm_id in ( select admissions.hadm_id from admissions where admissions.subject_id = 14502 and admissions.dischtime is not null order by admissions.admittime desc limit 1 ) ) and chartevents.itemid in ( select d_items.itemid from d_items where d_items.label = 'admit wt' and d_items.linksto = 'chartevents' ) order by chartevents.charttime asc limit 1 offset 1 ) - ( select chartevents.valuenum from chartevents where chartevents.icustay_id in ( select icustays.icustay_id from icustays where icustays.hadm_id in ( select admissions.hadm_id from admissions where admissions.subject_id = 14502 and admissions.dischtime is not null order by admissions.admittime desc limit 1 ) ) and chartevents.itemid in ( select d_items.itemid from d_items where d_items.label = 'admit wt' and d_items.linksto = 'chartevents' ) order by chartevents.charttime asc limit 1 )# this sql database does not support LIMIT.\n",
      "#\n",
      "# hadm_id: hospital admission id\n",
      "# dose_val_rx: dosage size\n",
      "# dose_unit_rx: unit of dose\n",
      "# valueom: value units over minutes \n",
      "#\n",
      "### MySQL SQL tables, with their properties:\n",
      "#\n",
      "# patients(row_id, subject_id, gender, dob, dod)\n",
      "# admissions(row_id, subject_id, hadm_id, admittime, dischtime, admission_type, admission_location, discharge_location, insurance, language, marital_status, ethnicity, age)\n",
      "# d_icd_diagnoses(row_id, icd9_code, short_title, long_title)\n",
      "# d_icd_procedures(row_id, icd9_code, short_title, long_title)\n",
      "# d_labitems(row_id, itemid, label)\n",
      "# d_items(row_id, itemid, label, linksto)\n",
      "# diagnoses_icd(row_id, subject_id, hadm_id, icd9_code, charttime)\n",
      "# procedures_icd(row_id, subject_id, hadm_id, icd9_code, charttime)\n",
      "# labevents(row_id, subject_id, hadm_id, itemid, charttime, valuenum, valueuom)\n",
      "# prescriptions(row_id, subject_id, hadm_id, startdate, enddate, drug, dose_val_rx, dose_unit_rx, route)\n",
      "# cost(row_id, subject_id, hadm_id, event_type, event_id, chargetime, cost)\n",
      "# chartevents(row_id, subject_id, hadm_id, icustay_id, itemid, charttime, valuenum, valueuom)\n",
      "# inputevents_cv(row_id, subject_id, hadm_id, icustay_id, charttime, itemid, amount)\n",
      "# outputevents(row_id, subject_id, hadm_id, icustay_id, charttime, itemid, value)\n",
      "# microbiologyevents(row_id, subject_id, hadm_id, charttime, spec_type_desc, org_name)\n",
      "# icustays(row_id, subject_id, hadm_id, icustay_id, first_careunit, last_careunit, first_wardid, last_wardid, intime, outtime)\n",
      "# transfers(row_id, subject_id, hadm_id, icustay_id, eventtype, careunit, wardid, intime, outtime)\n",
      "# \n",
      "# Fields: dob means date of birth, dod means date of death, admittime means admit time dischtime is discharge time.\n",
      "### what is the change in the weight of patient 6215 from the second value measured on the first hospital visit compared to the first value measured on the first hospital visit?\n",
      "select\n",
      "\n",
      "SELECT( SELECT CHARTEVENTS.VALUENUM \n",
      "  FROM CHARTEVENTS \n",
      "  WHERE CHARTEVENTS.ICUSTAY_ID IN \n",
      "    ( SELECT ICUSTAYS.ICUSTAY_ID \n",
      "      FROM ICUSTAYS \n",
      "      WHERE ICUSTAYS.HADM_ID IN \n",
      "        ( SELECT ADMISSIONS.HADM_ID \n",
      "          FROM ADMISSIONS \n",
      "          WHERE ADMISSIONS.SUBJECT_ID = 6215 \n",
      "          AND ADMISSIONS.DISCHTIME IS NOT NULL \n",
      "          ORDER BY ADMISSIONS.ADMITTIME ASC LIMIT 1 \n",
      "        ) \n",
      "    ) \n",
      "  AND CHARTEVENTS.ITEMID IN \n",
      "    ( SELECT D_ITEMS.ITEMID \n",
      "      FROM D_ITEMS \n",
      "      WHERE D_ITEMS.LABEL = 'ADMIT WT' \n",
      "      AND D_ITEMS.LINKSTO = 'CHARTEVENTS' \n",
      "    ) \n",
      "  ORDER BY CHARTEVENTS.CHARTTIME ASC LIMIT 1 OFFSET 1 \n",
      ") - \n",
      "( SELECT CHARTEVENTS.VALUENUM \n",
      "  FROM CHARTEVENTS \n",
      "  WHERE CHARTEVENTS.ICUSTAY_ID IN \n",
      "    ( SELECT ICUSTAYS.ICUSTAY_ID \n",
      "      FROM ICUSTAYS \n",
      "      WHERE ICUSTAYS.HADM_ID IN \n",
      "        ( SELECT ADMISSIONS.HADM_ID \n",
      "          FROM ADMISSIONS \n",
      "          WHERE ADMISSIONS.SUBJECT_ID = 6215 \n",
      "          AND ADMISSIONS.DISCHTIME IS NOT NULL \n",
      "          ORDER BY ADMISSIONS.ADMITTIME ASC LIMIT 1 \n",
      "        ) \n",
      "    ) \n",
      "  AND CHARTEVENTS.ITEMID IN \n",
      "    ( SELECT D_ITEMS.ITEMID \n",
      "      FROM D_ITEMS \n",
      "      WHERE D_ITEMS.LABEL = 'ADMIT WT' \n",
      "      AND D_ITEMS.LINKSTO = 'CHARTEVENTS' \n",
      "    ) \n",
      "  ORDER BY CHARTEVENTS.CHARTTIME ASC LIMIT 1 \n",
      ");\n",
      "\n"
     ]
    },
    {
     "data": {
      "text/plain": [
       "\"SELECT( SELECT CHARTEVENTS.VALUENUM \\n  FROM CHARTEVENTS \\n  WHERE CHARTEVENTS.ICUSTAY_ID IN \\n    ( SELECT ICUSTAYS.ICUSTAY_ID \\n      FROM ICUSTAYS \\n      WHERE ICUSTAYS.HADM_ID IN \\n        ( SELECT ADMISSIONS.HADM_ID \\n          FROM ADMISSIONS \\n          WHERE ADMISSIONS.SUBJECT_ID = 6215 \\n          AND ADMISSIONS.DISCHTIME IS NOT NULL \\n          ORDER BY ADMISSIONS.ADMITTIME ASC LIMIT 1 \\n        ) \\n    ) \\n  AND CHARTEVENTS.ITEMID IN \\n    ( SELECT D_ITEMS.ITEMID \\n      FROM D_ITEMS \\n      WHERE D_ITEMS.LABEL = 'ADMIT WT' \\n      AND D_ITEMS.LINKSTO = 'CHARTEVENTS' \\n    ) \\n  ORDER BY CHARTEVENTS.CHARTTIME ASC LIMIT 1 OFFSET 1 \\n) - \\n( SELECT CHARTEVENTS.VALUENUM \\n  FROM CHARTEVENTS \\n  WHERE CHARTEVENTS.ICUSTAY_ID IN \\n    ( SELECT ICUSTAYS.ICUSTAY_ID \\n      FROM ICUSTAYS \\n      WHERE ICUSTAYS.HADM_ID IN \\n        ( SELECT ADMISSIONS.HADM_ID \\n          FROM ADMISSIONS \\n          WHERE ADMISSIONS.SUBJECT_ID = 6215 \\n          AND ADMISSIONS.DISCHTIME IS NOT NULL \\n          ORDER BY ADMISSIONS.ADMITTIME ASC LIMIT 1 \\n        ) \\n    ) \\n  AND CHARTEVENTS.ITEMID IN \\n    ( SELECT D_ITEMS.ITEMID \\n      FROM D_ITEMS \\n      WHERE D_ITEMS.LABEL = 'ADMIT WT' \\n      AND D_ITEMS.LINKSTO = 'CHARTEVENTS' \\n    ) \\n  ORDER BY CHARTEVENTS.CHARTTIME ASC LIMIT 1 \\n);\""
      ]
     },
     "execution_count": 16,
     "metadata": {},
     "output_type": "execute_result"
    }
   ],
   "source": [
    "def backend(question):\n",
    "    qqlist = [qqdict[str(i)] for i in SVS(question, k=15, corpus=corpus_embedding, model=model)]\n",
    "\n",
    "    relevant_qtext = \"# Q: \\t\" + \"\\n# Q: \\t\".join([\"\\n# A: \\t\".join(rel) for rel in qqlist])\n",
    "    test_prompt = open('../models/mimic-iii/codex_apidoc.txt').read()\n",
    "\n",
    "    result = run_engine(question, test_prompt, relevant_qtext)\n",
    "\n",
    "    print(result)\n",
    "    print()\n",
    "    return result\n",
    "    \n",
    "backend(question)"
   ]
  },
  {
   "cell_type": "code",
   "execution_count": 20,
   "metadata": {},
   "outputs": [],
   "source": [
    "test_prompt = open('../models/mimic-iii/codex_apidoc.txt').read()"
   ]
  },
  {
   "cell_type": "code",
   "execution_count": 5,
   "metadata": {},
   "outputs": [
    {
     "name": "stdout",
     "output_type": "stream",
     "text": [
      "Was patient 22973 prescribed insulin the last time they were at the ICU?\n",
      "\n",
      "SELECT COUNT(*)>0 \n",
      "FROM PRESCRIPTIONS \n",
      "WHERE PRESCRIPTIONS.HADM_ID IN \n",
      "( \n",
      "    SELECT ICUSTAYS.HADM_ID \n",
      "    FROM ICUSTAYS \n",
      "    WHERE ICUSTAYS.SUBJECT_ID = 22973 \n",
      "    ORDER BY ICUSTAYS.INTIME DESC \n",
      "    LIMIT 1 \n",
      ") \n",
      "AND PRESCRIPTIONS.DRUG = 'INSULIN';\n"
     ]
    }
   ],
   "source": [
    "print(question)\n",
    "print()\n",
    "print(\"SELECT COUNT(*)>0 \\nFROM PRESCRIPTIONS \\nWHERE PRESCRIPTIONS.HADM_ID IN \\n( \\n    SELECT ICUSTAYS.HADM_ID \\n    FROM ICUSTAYS \\n    WHERE ICUSTAYS.SUBJECT_ID = 22973 \\n    ORDER BY ICUSTAYS.INTIME DESC \\n    LIMIT 1 \\n) \\nAND PRESCRIPTIONS.DRUG = 'INSULIN';\")"
   ]
  },
  {
   "cell_type": "code",
   "execution_count": 17,
   "metadata": {},
   "outputs": [],
   "source": [
    "text = '''SELECT( SELECT CHARTEVENTS.VALUENUM \\n  FROM CHARTEVENTS \\n  WHERE CHARTEVENTS.ICUSTAY_ID IN \\n    ( SELECT ICUSTAYS.ICUSTAY_ID \\n      FROM ICUSTAYS \\n      WHERE ICUSTAYS.HADM_ID IN \\n        ( SELECT ADMISSIONS.HADM_ID \\n          FROM ADMISSIONS \\n          WHERE ADMISSIONS.SUBJECT_ID = 6215 \\n          AND ADMISSIONS.DISCHTIME IS NOT NULL \\n          ORDER BY ADMISSIONS.ADMITTIME ASC LIMIT 1 \\n        ) \\n    ) \\n  AND CHARTEVENTS.ITEMID IN \\n    ( SELECT D_ITEMS.ITEMID \\n      FROM D_ITEMS \\n      WHERE D_ITEMS.LABEL = 'ADMIT WT' \\n      AND D_ITEMS.LINKSTO = 'CHARTEVENTS' \\n    ) \\n  ORDER BY CHARTEVENTS.CHARTTIME ASC LIMIT 1 OFFSET 1 \\n) - \\n( SELECT CHARTEVENTS.VALUENUM \\n  FROM CHARTEVENTS \\n  WHERE CHARTEVENTS.ICUSTAY_ID IN \\n    ( SELECT ICUSTAYS.ICUSTAY_ID \\n      FROM ICUSTAYS \\n      WHERE ICUSTAYS.HADM_ID IN \\n        ( SELECT ADMISSIONS.HADM_ID \\n          FROM ADMISSIONS \\n          WHERE ADMISSIONS.SUBJECT_ID = 6215 \\n          AND ADMISSIONS.DISCHTIME IS NOT NULL \\n          ORDER BY ADMISSIONS.ADMITTIME ASC LIMIT 1 \\n        ) \\n    ) \\n  AND CHARTEVENTS.ITEMID IN \\n    ( SELECT D_ITEMS.ITEMID \\n      FROM D_ITEMS \\n      WHERE D_ITEMS.LABEL = 'ADMIT WT' \\n      AND D_ITEMS.LINKSTO = 'CHARTEVENTS' \\n    ) \\n  ORDER BY CHARTEVENTS.CHARTTIME ASC LIMIT 1 \\n);'''"
   ]
  },
  {
   "cell_type": "code",
   "execution_count": 19,
   "metadata": {},
   "outputs": [
    {
     "name": "stdout",
     "output_type": "stream",
     "text": [
      "2024-02-11 05:40:24,382 INFO sqlalchemy.engine.Engine SELECT DATABASE()\n",
      "2024-02-11 05:40:24,386 INFO sqlalchemy.engine.Engine [raw sql] {}\n",
      "2024-02-11 05:40:24,617 INFO sqlalchemy.engine.Engine SELECT @@sql_mode\n",
      "2024-02-11 05:40:24,618 INFO sqlalchemy.engine.Engine [raw sql] {}\n",
      "2024-02-11 05:40:24,688 INFO sqlalchemy.engine.Engine SELECT @@lower_case_table_names\n",
      "2024-02-11 05:40:24,689 INFO sqlalchemy.engine.Engine [raw sql] {}\n",
      "2024-02-11 05:40:24,803 INFO sqlalchemy.engine.Engine BEGIN (implicit)\n",
      "2024-02-11 05:40:24,804 INFO sqlalchemy.engine.Engine SELECT( SELECT CHARTEVENTS.VALUENUM \n",
      "  FROM CHARTEVENTS \n",
      "  WHERE CHARTEVENTS.ICUSTAY_ID IN \n",
      "    ( SELECT ICUSTAYS.ICUSTAY_ID \n",
      "      FROM ICUSTAYS \n",
      "      WHERE ICUSTAYS.HADM_ID IN \n",
      "        ( SELECT ADMISSIONS.HADM_ID \n",
      "          FROM ADMISSIONS \n",
      "          WHERE ADMISSIONS.SUBJECT_ID = 6215 \n",
      "          AND ADMISSIONS.DISCHTIME IS NOT NULL \n",
      "          ORDER BY ADMISSIONS.ADMITTIME ASC LIMIT 1 \n",
      "        ) \n",
      "    ) \n",
      "  AND CHARTEVENTS.ITEMID IN \n",
      "    ( SELECT D_ITEMS.ITEMID \n",
      "      FROM D_ITEMS \n",
      "      WHERE D_ITEMS.LABEL = 'ADMIT WT' \n",
      "      AND D_ITEMS.LINKSTO = 'CHARTEVENTS' \n",
      "    ) \n",
      "  ORDER BY CHARTEVENTS.CHARTTIME ASC LIMIT 1 OFFSET 1 \n",
      ") - \n",
      "( SELECT CHARTEVENTS.VALUENUM \n",
      "  FROM CHARTEVENTS \n",
      "  WHERE CHARTEVENTS.ICUSTAY_ID IN \n",
      "    ( SELECT ICUSTAYS.ICUSTAY_ID \n",
      "      FROM ICUSTAYS \n",
      "      WHERE ICUSTAYS.HADM_ID IN \n",
      "        ( SELECT ADMISSIONS.HADM_ID \n",
      "          FROM ADMISSIONS \n",
      "          WHERE ADMISSIONS.SUBJECT_ID = 6215 \n",
      "          AND ADMISSIONS.DISCHTIME IS NOT NULL \n",
      "          ORDER BY ADMISSIONS.ADMITTIME ASC LIMIT 1 \n",
      "        ) \n",
      "    ) \n",
      "  AND CHARTEVENTS.ITEMID IN \n",
      "    ( SELECT D_ITEMS.ITEMID \n",
      "      FROM D_ITEMS \n",
      "      WHERE D_ITEMS.LABEL = 'ADMIT WT' \n",
      "      AND D_ITEMS.LINKSTO = 'CHARTEVENTS' \n",
      "    ) \n",
      "  ORDER BY CHARTEVENTS.CHARTTIME ASC LIMIT 1 \n",
      ");\n",
      "2024-02-11 05:40:24,805 INFO sqlalchemy.engine.Engine [generated in 0.03264s] {}\n",
      "(mysql.connector.errors.ProgrammingError) 1235 (42000): target: hacklytics3.-.primary: vttablet: This version of MySQL doesn't yet support 'LIMIT & IN/ALL/ANY/SOME subquery' (errno 1235) (sqlstate 42000) (CallerID: ytj1qqc7e3hsn8xbdtq4): Sql: \"select (select CHARTEVENTS.VALUENUM from CHARTEVENTS where CHARTEVENTS.ICUSTAY_ID in (select ICUSTAYS.ICUSTAY_ID from ICUSTAYS where ICUSTAYS.HADM_ID in (select ADMISSIONS.HADM_ID from ADMISSIONS where ADMISSIONS.SUBJECT_ID = :ADMISSIONS_SUBJECT_ID /* INT64 */ and ADMISSIONS.DISCHTIME is not null order by ADMISSIONS.ADMIT\n",
      "[SQL: SELECT( SELECT CHARTEVENTS.VALUENUM \n",
      "  FROM CHARTEVENTS \n",
      "  WHERE CHARTEVENTS.ICUSTAY_ID IN \n",
      "    ( SELECT ICUSTAYS.ICUSTAY_ID \n",
      "      FROM ICUSTAYS \n",
      "      WHERE ICUSTAYS.HADM_ID IN \n",
      "        ( SELECT ADMISSIONS.HADM_ID \n",
      "          FROM ADMISSIONS \n",
      "          WHERE ADMISSIONS.SUBJECT_ID = 6215 \n",
      "          AND ADMISSIONS.DISCHTIME IS NOT NULL \n",
      "          ORDER BY ADMISSIONS.ADMITTIME ASC LIMIT 1 \n",
      "        ) \n",
      "    ) \n",
      "  AND CHARTEVENTS.ITEMID IN \n",
      "    ( SELECT D_ITEMS.ITEMID \n",
      "      FROM D_ITEMS \n",
      "      WHERE D_ITEMS.LABEL = 'ADMIT WT' \n",
      "      AND D_ITEMS.LINKSTO = 'CHARTEVENTS' \n",
      "    ) \n",
      "  ORDER BY CHARTEVENTS.CHARTTIME ASC LIMIT 1 OFFSET 1 \n",
      ") - \n",
      "( SELECT CHARTEVENTS.VALUENUM \n",
      "  FROM CHARTEVENTS \n",
      "  WHERE CHARTEVENTS.ICUSTAY_ID IN \n",
      "    ( SELECT ICUSTAYS.ICUSTAY_ID \n",
      "      FROM ICUSTAYS \n",
      "      WHERE ICUSTAYS.HADM_ID IN \n",
      "        ( SELECT ADMISSIONS.HADM_ID \n",
      "          FROM ADMISSIONS \n",
      "          WHERE ADMISSIONS.SUBJECT_ID = 6215 \n",
      "          AND ADMISSIONS.DISCHTIME IS NOT NULL \n",
      "          ORDER BY ADMISSIONS.ADMITTIME ASC LIMIT 1 \n",
      "        ) \n",
      "    ) \n",
      "  AND CHARTEVENTS.ITEMID IN \n",
      "    ( SELECT D_ITEMS.ITEMID \n",
      "      FROM D_ITEMS \n",
      "      WHERE D_ITEMS.LABEL = 'ADMIT WT' \n",
      "      AND D_ITEMS.LINKSTO = 'CHARTEVENTS' \n",
      "    ) \n",
      "  ORDER BY CHARTEVENTS.CHARTTIME ASC LIMIT 1 \n",
      ");]\n",
      "(Background on this error at: https://sqlalche.me/e/20/f405)\n"
     ]
    }
   ],
   "source": [
    "conn_string = f'mysql+mysqlconnector://{user}:{password}@{host}/{database}'\n",
    "engine = create_engine(conn_string, echo=True)\n",
    "connection = engine.connect()\n",
    "\n",
    "try:\n",
    "    result = connection.execute(sqltext(text)).fetchall()\n",
    "except Exception as e:\n",
    "    print(e)"
   ]
  },
  {
   "cell_type": "code",
   "execution_count": null,
   "metadata": {},
   "outputs": [],
   "source": []
  }
 ],
 "metadata": {
  "kernelspec": {
   "display_name": "Python 3.9.6 64-bit",
   "language": "python",
   "name": "python3"
  },
  "language_info": {
   "codemirror_mode": {
    "name": "ipython",
    "version": 3
   },
   "file_extension": ".py",
   "mimetype": "text/x-python",
   "name": "python",
   "nbconvert_exporter": "python",
   "pygments_lexer": "ipython3",
   "version": "3.9.6"
  },
  "orig_nbformat": 4,
  "vscode": {
   "interpreter": {
    "hash": "31f2aee4e71d21fbe5cf8b01ff0e069b9275f58929596ceb00d14d90e3e16cd6"
   }
  }
 },
 "nbformat": 4,
 "nbformat_minor": 2
}
