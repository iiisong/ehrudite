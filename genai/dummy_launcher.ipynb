{
 "cells": [
  {
   "cell_type": "markdown",
   "metadata": {},
   "source": [
    "# this should be in backend\n",
    "testing here for convenience"
   ]
  },
  {
   "cell_type": "code",
   "execution_count": 4,
   "metadata": {},
   "outputs": [],
   "source": [
    "import torch\n",
    "import pandas as pd\n",
    "import json\n",
    "import os\n",
    "from openai import OpenAI\n",
    "from sentence_transformers import SentenceTransformer, util\n",
    "\n",
    "from svs import SVS\n",
    "from queryOpenAI import run_engine"
   ]
  },
  {
   "cell_type": "code",
   "execution_count": 5,
   "metadata": {},
   "outputs": [],
   "source": [
    "# preloading slow things\n",
    "model = SentenceTransformer('distilbert-multilingual-nli-stsb-quora-ranking')\n",
    "f = open('../models/mimic-iii/qqdict.json')\n",
    "qqdict = json.load(f)\n",
    "corpus_embedding = torch.tensor(pd.read_csv(\"../models/mimic-iii/corpus.csv\").values).to(torch.float32)\n",
    "\n",
    "client = OpenAI(api_key=os.getenv(\"OAI_KEY\"))"
   ]
  },
  {
   "cell_type": "code",
   "execution_count": 6,
   "metadata": {},
   "outputs": [],
   "source": [
    "question = \"What antibiotic was prescribed to patient 1125?\""
   ]
  },
  {
   "cell_type": "code",
   "execution_count": 7,
   "metadata": {},
   "outputs": [
    {
     "name": "stdout",
     "output_type": "stream",
     "text": [
      "# Q: \ttell me the name of the drug that patient 10431 was prescribed with during the same hospital visit after being diagnosed until 05/2101 with neutropenia nos?\n",
      "# A: \tselect t2.drug from ( select admissions.subject_id, diagnoses_icd.charttime, admissions.hadm_id from diagnoses_icd join admissions on diagnoses_icd.hadm_id = admissions.hadm_id where admissions.subject_id = 10431 and diagnoses_icd.icd9_code = ( select d_icd_diagnoses.icd9_code from d_icd_diagnoses where d_icd_diagnoses.short_title = 'neutropenia nos' ) and strftime('%y-%m',diagnoses_icd.charttime) <= '2101-05' ) as t1 join ( select admissions.subject_id, prescriptions.drug, prescriptions.startdate, admissions.hadm_id from prescriptions join admissions on prescriptions.hadm_id = admissions.hadm_id where admissions.subject_id = 10431 and strftime('%y-%m',prescriptions.startdate) <= '2101-05' ) as t2 on t1.subject_id = t2.subject_id where t1.charttime < t2.startdate and t1.hadm_id = t2.hadm_id\n",
      "# Q: \twas the furosemide prescribed to patient 1372 until 07/2101?\n",
      "# A: \tselect count(*)>0 from prescriptions where prescriptions.hadm_id in ( select admissions.hadm_id from admissions where admissions.subject_id = 1372 ) and prescriptions.drug = 'furosemide' and strftime('%y-%m',prescriptions.startdate) <= '2101-07'\n",
      "# Q: \twhat was the dose of sevelamer - that was first prescribed to patient 6170 on their current hospital encounter?\n",
      "# A: \tselect prescriptions.dose_val_rx from prescriptions where prescriptions.hadm_id in ( select admissions.hadm_id from admissions where admissions.subject_id = 6170 and admissions.dischtime is null ) and prescriptions.drug = 'sevelamer' order by prescriptions.startdate asc limit 1\n",
      "# Q: \twhat are the five most commonly prescribed medications that patients are prescribed within 2 months after they were diagnosed with lack of coordination since 4 years ago?\n",
      "# A: \tselect t3.drug from ( select t2.drug, dense_rank() over ( order by count(*) desc ) as c1 from ( select admissions.subject_id, diagnoses_icd.charttime from diagnoses_icd join admissions on diagnoses_icd.hadm_id = admissions.hadm_id where diagnoses_icd.icd9_code = ( select d_icd_diagnoses.icd9_code from d_icd_diagnoses where d_icd_diagnoses.short_title = 'lack of coordination' ) and datetime(diagnoses_icd.charttime) >= datetime(current_time,'-4 year') ) as t1 join ( select admissions.subject_id, prescriptions.drug, prescriptions.startdate from prescriptions join admissions on prescriptions.hadm_id = admissions.hadm_id where datetime(prescriptions.startdate) >= datetime(current_time,'-4 year') ) as t2 on t1.subject_id = t2.subject_id where t1.charttime < t2.startdate and datetime(t2.startdate) between datetime(t1.charttime) and datetime(t1.charttime,'+2 month') group by t2.drug ) as t3 where t3.c1 <= 5\n",
      "# Q: \thave terazosin ever been prescribed to patient 16572 until 2100?\n",
      "# A: \tselect count(*)>0 from prescriptions where prescriptions.hadm_id in ( select admissions.hadm_id from admissions where admissions.subject_id = 16572 ) and prescriptions.drug = 'terazosin' and strftime('%y',prescriptions.startdate) <= '2100'\n",
      "# Q: \tsince 5 years ago, what is the three most frequent medication prescribed during the same month to the patients aged 20s after they had been diagnosed with need prphyl vc vrl hepat?\n",
      "# A: \tselect t3.drug from ( select t2.drug, dense_rank() over ( order by count(*) desc ) as c1 from ( select admissions.subject_id, diagnoses_icd.charttime from diagnoses_icd join admissions on diagnoses_icd.hadm_id = admissions.hadm_id where diagnoses_icd.icd9_code = ( select d_icd_diagnoses.icd9_code from d_icd_diagnoses where d_icd_diagnoses.short_title = 'need prphyl vc vrl hepat' ) and datetime(diagnoses_icd.charttime) >= datetime(current_time,'-5 year') ) as t1 join ( select admissions.subject_id, prescriptions.drug, prescriptions.startdate from prescriptions join admissions on prescriptions.hadm_id = admissions.hadm_id where admissions.age between 20 and 29 and datetime(prescriptions.startdate) >= datetime(current_time,'-5 year') ) as t2 on t1.subject_id = t2.subject_id where t1.charttime < t2.startdate and datetime(t1.charttime,'start of month') = datetime(t2.startdate,'start of month') group by t2.drug ) as t3 where t3.c1 <= 3\n",
      "# Q: \twhen was the last time patient 25796 had been prescribed neo*po*chlorothiazide and cytarabine at the same time until 43 months ago?\n",
      "# A: \tselect t1.startdate from ( select admissions.subject_id, prescriptions.startdate from prescriptions join admissions on prescriptions.hadm_id = admissions.hadm_id where prescriptions.drug = 'neo*po*chlorothiazide' and admissions.subject_id = 25796 and datetime(prescriptions.startdate) <= datetime(current_time,'-43 month') ) as t1 join ( select admissions.subject_id, prescriptions.startdate from prescriptions join admissions on prescriptions.hadm_id = admissions.hadm_id where prescriptions.drug = 'cytarabine' and admissions.subject_id = 25796 and datetime(prescriptions.startdate) <= datetime(current_time,'-43 month') ) as t2 on t1.subject_id = t2.subject_id where datetime(t1.startdate) = datetime(t2.startdate) order by t1.startdate desc limit 1\n",
      "# Q: \twhat was the monthly minimum intake of d5/.45ns that patient 27362 had received since 41 months ago?\n",
      "# A: \tselect min(inputevents_cv.amount) from inputevents_cv where inputevents_cv.icustay_id in ( select icustays.icustay_id from icustays where icustays.hadm_id in ( select admissions.hadm_id from admissions where admissions.subject_id = 27362 ) ) and inputevents_cv.itemid in ( select d_items.itemid from d_items where d_items.label = 'd5/.45ns' and d_items.linksto = 'inputevents_cv' ) and datetime(inputevents_cv.charttime) >= datetime(current_time,'-41 month') group by strftime('%y-%m',inputevents_cv.charttime)\n",
      "# Q: \twhat drug was prescribed to patient 69761 within 2 days after the circumcision procedure since 16 months ago?\n",
      "# A: \tselect t2.drug from ( select admissions.subject_id, procedures_icd.charttime from procedures_icd join admissions on procedures_icd.hadm_id = admissions.hadm_id where admissions.subject_id = 69761 and procedures_icd.icd9_code = ( select d_icd_procedures.icd9_code from d_icd_procedures where d_icd_procedures.short_title = 'circumcision' ) and datetime(procedures_icd.charttime) >= datetime(current_time,'-16 month') ) as t1 join ( select admissions.subject_id, prescriptions.drug, prescriptions.startdate from prescriptions join admissions on prescriptions.hadm_id = admissions.hadm_id where admissions.subject_id = 69761 and datetime(prescriptions.startdate) >= datetime(current_time,'-16 month') ) as t2 on t1.subject_id = t2.subject_id where t1.charttime < t2.startdate and datetime(t2.startdate) between datetime(t1.charttime) and datetime(t1.charttime,'+2 day')\n",
      "# Q: \twhat was the name of the drug which patient 6170 was prescribed within the same hospital visit after being diagnosed with single lb in-hosp w/o cs in 12/this year?\n",
      "# A: \tselect t2.drug from ( select admissions.subject_id, diagnoses_icd.charttime, admissions.hadm_id from diagnoses_icd join admissions on diagnoses_icd.hadm_id = admissions.hadm_id where admissions.subject_id = 6170 and diagnoses_icd.icd9_code = ( select d_icd_diagnoses.icd9_code from d_icd_diagnoses where d_icd_diagnoses.short_title = 'single lb in-hosp w/o cs' ) and datetime(diagnoses_icd.charttime,'start of year') = datetime(current_time,'start of year','-0 year') and strftime('%m',diagnoses_icd.charttime) = '12' ) as t1 join ( select admissions.subject_id, prescriptions.drug, prescriptions.startdate, admissions.hadm_id from prescriptions join admissions on prescriptions.hadm_id = admissions.hadm_id where admissions.subject_id = 6170 and datetime(prescriptions.startdate,'start of year') = datetime(current_time,'start of year','-0 year') and strftime('%m',prescriptions.startdate) = '12' ) as t2 on t1.subject_id = t2.subject_id where t1.charttime < t2.startdate and t1.hadm_id = t2.hadm_id\n",
      "# Q: \thas patient 10266 been prescribed labetalol, d5 1/2ns, or insulin a year before?\n",
      "# A: \tselect count(*)>0 from prescriptions where prescriptions.hadm_id in ( select admissions.hadm_id from admissions where admissions.subject_id = 10266 ) and prescriptions.drug in ( 'd5 1/2ns', 'labetalol', 'insulin' ) and datetime(prescriptions.startdate,'start of year') = datetime(current_time,'start of year','-1 year')\n",
      "# Q: \tduring their current hospital encounter, has patient 27172 been ordered with atenolol, pantoprazole sodium or vial?\n",
      "# A: \tselect count(*)>0 from prescriptions where prescriptions.hadm_id in ( select admissions.hadm_id from admissions where admissions.subject_id = 27172 and admissions.dischtime is null ) and prescriptions.drug in ( 'atenolol', 'pantoprazole sodium', 'vial' )\n",
      "# Q: \tcompare to yesterday what was new in the prescription of patient 14671 today?\n",
      "# A: \tselect prescriptions.drug from prescriptions where prescriptions.hadm_id in ( select admissions.hadm_id from admissions where admissions.subject_id = 14671 ) and datetime(prescriptions.startdate,'start of day') = datetime(current_time,'start of day','-0 day') except select prescriptions.drug from prescriptions where prescriptions.hadm_id in ( select admissions.hadm_id from admissions where admissions.subject_id = 14671 ) and datetime(prescriptions.startdate,'start of day') = datetime(current_time,'start of day','-1 day')\n",
      "# Q: \twhen was the last time when patient 46528 was prescribed sevelamer and erythromycin at the same time in 04/2102?\n",
      "# A: \tselect t1.startdate from ( select admissions.subject_id, prescriptions.startdate from prescriptions join admissions on prescriptions.hadm_id = admissions.hadm_id where prescriptions.drug = 'sevelamer' and admissions.subject_id = 46528 and strftime('%y-%m',prescriptions.startdate) = '2102-04' ) as t1 join ( select admissions.subject_id, prescriptions.startdate from prescriptions join admissions on prescriptions.hadm_id = admissions.hadm_id where prescriptions.drug = 'erythromycin' and admissions.subject_id = 46528 and strftime('%y-%m',prescriptions.startdate) = '2102-04' ) as t2 on t1.subject_id = t2.subject_id where datetime(t1.startdate) = datetime(t2.startdate) order by t1.startdate desc limit 1\n",
      "# Q: \thas there ever been any promote w/fiber given to patient 4401 on the current intensive care unit visit?\n",
      "# A: \tselect count(*)>0 from inputevents_cv where inputevents_cv.icustay_id in ( select icustays.icustay_id from icustays where icustays.hadm_id in ( select admissions.hadm_id from admissions where admissions.subject_id = 4401 ) and icustays.outtime is null ) and inputevents_cv.itemid in ( select d_items.itemid from d_items where d_items.label = 'promote w/fiber' and d_items.linksto = 'inputevents_cv' )# no LIMIT allowed \n",
      "#\n",
      "# hadm_id: hospital admission id\n",
      "# dose_val_rx: dosage size\n",
      "# dose_unit_rx: unit of dose\n",
      "# valueom: value units over minutes \n",
      "#\n",
      "### MySQL SQL tables, with their properties:\n",
      "#\n",
      "# patients(row_id, subject_id, gender, dob, dod)\n",
      "# admissions(row_id, subject_id, hadm_id, admittime, dischtime, admission_type, admission_location, discharge_location, insurance, language, marital_status, ethnicity, age)\n",
      "# d_icd_diagnoses(row_id, icd9_code, short_title, long_title)\n",
      "# d_icd_procedures(row_id, icd9_code, short_title, long_title)\n",
      "# d_labitems(row_id, itemid, label)\n",
      "# d_items(row_id, itemid, label, linksto)\n",
      "# diagnoses_icd(row_id, subject_id, hadm_id, icd9_code, charttime)\n",
      "# procedures_icd(row_id, subject_id, hadm_id, icd9_code, charttime)\n",
      "# labevents(row_id, subject_id, hadm_id, itemid, charttime, valuenum, valueuom)\n",
      "# prescriptions(row_id, subject_id, hadm_id, startdate, enddate, drug, dose_val_rx, dose_unit_rx, route)\n",
      "# cost(row_id, subject_id, hadm_id, event_type, event_id, chargetime, cost)\n",
      "# chartevents(row_id, subject_id, hadm_id, icustay_id, itemid, charttime, valuenum, valueuom)\n",
      "# inputevents_cv(row_id, subject_id, hadm_id, icustay_id, charttime, itemid, amount)\n",
      "# outputevents(row_id, subject_id, hadm_id, icustay_id, charttime, itemid, value)\n",
      "# microbiologyevents(row_id, subject_id, hadm_id, charttime, spec_type_desc, org_name)\n",
      "# icustays(row_id, subject_id, hadm_id, icustay_id, first_careunit, last_careunit, first_wardid, last_wardid, intime, outtime)\n",
      "# transfers(row_id, subject_id, hadm_id, icustay_id, eventtype, careunit, wardid, intime, outtime)\n",
      "# \n",
      "# Fields: dob means date of birth, dod means date of death, admittime means admit time dischtime is discharge time.\n",
      "### What antibiotic was prescribed to patient 1125?\n",
      "select\n",
      "\n",
      "SELECT DRUG \n",
      "FROM PRESCRIPTIONS \n",
      "WHERE SUBJECT_ID = 1125 \n",
      "AND DRUG LIKE '%ANTIBIOTIC%';\n",
      "\n"
     ]
    },
    {
     "data": {
      "text/plain": [
       "\"SELECT DRUG \\nFROM PRESCRIPTIONS \\nWHERE SUBJECT_ID = 1125 \\nAND DRUG LIKE '%ANTIBIOTIC%';\""
      ]
     },
     "execution_count": 7,
     "metadata": {},
     "output_type": "execute_result"
    }
   ],
   "source": [
    "def backend(question):\n",
    "    qqlist = [qqdict[str(i)] for i in SVS(question, k=15, corpus=corpus_embedding, model=model)]\n",
    "\n",
    "    relevant_qtext = \"# Q: \\t\" + \"\\n# Q: \\t\".join([\"\\n# A: \\t\".join(rel) for rel in qqlist])\n",
    "    test_prompt = open('../models/mimic-iii/codex_apidoc.txt').read()\n",
    "\n",
    "    result = run_engine(question, test_prompt, relevant_qtext)\n",
    "\n",
    "    print(result)\n",
    "    print()\n",
    "    return result\n",
    "    \n",
    "backend(question)"
   ]
  },
  {
   "cell_type": "code",
   "execution_count": 8,
   "metadata": {},
   "outputs": [],
   "source": [
    "test_prompt = open('../models/mimic-iii/codex_apidoc.txt').read()"
   ]
  },
  {
   "cell_type": "code",
   "execution_count": 5,
   "metadata": {},
   "outputs": [
    {
     "name": "stdout",
     "output_type": "stream",
     "text": [
      "Was patient 22973 prescribed insulin the last time they were at the ICU?\n",
      "\n",
      "SELECT COUNT(*)>0 \n",
      "FROM PRESCRIPTIONS \n",
      "WHERE PRESCRIPTIONS.HADM_ID IN \n",
      "( \n",
      "    SELECT ICUSTAYS.HADM_ID \n",
      "    FROM ICUSTAYS \n",
      "    WHERE ICUSTAYS.SUBJECT_ID = 22973 \n",
      "    ORDER BY ICUSTAYS.INTIME DESC \n",
      "    LIMIT 1 \n",
      ") \n",
      "AND PRESCRIPTIONS.DRUG = 'INSULIN';\n"
     ]
    }
   ],
   "source": [
    "print(question)\n",
    "print()\n",
    "print(\"SELECT COUNT(*)>0 \\nFROM PRESCRIPTIONS \\nWHERE PRESCRIPTIONS.HADM_ID IN \\n( \\n    SELECT ICUSTAYS.HADM_ID \\n    FROM ICUSTAYS \\n    WHERE ICUSTAYS.SUBJECT_ID = 22973 \\n    ORDER BY ICUSTAYS.INTIME DESC \\n    LIMIT 1 \\n) \\nAND PRESCRIPTIONS.DRUG = 'INSULIN';\")"
   ]
  },
  {
   "cell_type": "code",
   "execution_count": null,
   "metadata": {},
   "outputs": [],
   "source": []
  }
 ],
 "metadata": {
  "kernelspec": {
   "display_name": "Python 3.9.6 64-bit",
   "language": "python",
   "name": "python3"
  },
  "language_info": {
   "codemirror_mode": {
    "name": "ipython",
    "version": 3
   },
   "file_extension": ".py",
   "mimetype": "text/x-python",
   "name": "python",
   "nbconvert_exporter": "python",
   "pygments_lexer": "ipython3",
   "version": "3.10.2"
  },
  "orig_nbformat": 4,
  "vscode": {
   "interpreter": {
    "hash": "31f2aee4e71d21fbe5cf8b01ff0e069b9275f58929596ceb00d14d90e3e16cd6"
   }
  }
 },
 "nbformat": 4,
 "nbformat_minor": 2
}
