{
 "cells": [
  {
   "cell_type": "markdown",
   "metadata": {},
   "source": [
    "# this should be in backend\n",
    "testing here for convenience"
   ]
  },
  {
   "cell_type": "code",
   "execution_count": 1,
   "metadata": {},
   "outputs": [
    {
     "name": "stderr",
     "output_type": "stream",
     "text": [
      "/Users/isaac/Library/Python/3.9/lib/python/site-packages/urllib3/__init__.py:34: NotOpenSSLWarning: urllib3 v2.0 only supports OpenSSL 1.1.1+, currently the 'ssl' module is compiled with 'LibreSSL 2.8.3'. See: https://github.com/urllib3/urllib3/issues/3020\n",
      "  warnings.warn(\n"
     ]
    }
   ],
   "source": [
    "import os\n",
    "import json\n",
    "import pandas as pd\n",
    "\n",
    "import torch\n",
    "from openai import OpenAI\n",
    "from sentence_transformers import SentenceTransformer, util\n",
    "\n",
    "import mysql.connector\n",
    "from dotenv import load_dotenv, find_dotenv\n",
    "from sqlalchemy import create_engine\n",
    "from sqlalchemy import text as sqtext\n",
    "load_dotenv(find_dotenv())\n",
    "\n",
    "from svs import SVS\n",
    "from queryOpenAI import run_engine"
   ]
  },
  {
   "cell_type": "code",
   "execution_count": 2,
   "metadata": {},
   "outputs": [],
   "source": [
    "host = os.getenv(\"DB_HOST\")\n",
    "user = os.getenv(\"DB_USERNAME\")\n",
    "password = os.getenv(\"DB_PASSWORD\")\n",
    "database = os.getenv(\"DB_NAME\")"
   ]
  },
  {
   "cell_type": "code",
   "execution_count": 3,
   "metadata": {},
   "outputs": [
    {
     "name": "stderr",
     "output_type": "stream",
     "text": [
      "/Users/isaac/Library/Python/3.9/lib/python/site-packages/torch/_utils.py:831: UserWarning: TypedStorage is deprecated. It will be removed in the future and UntypedStorage will be the only storage class. This should only matter to you if you are using storages directly.  To access UntypedStorage directly, use tensor.untyped_storage() instead of tensor.storage()\n",
      "  return self.fget.__get__(instance, owner)()\n"
     ]
    }
   ],
   "source": [
    "# preloading slow things\n",
    "model = SentenceTransformer('distilbert-multilingual-nli-stsb-quora-ranking')\n",
    "f = open('../models/mimic-iii/qqdict.json')\n",
    "qqdict = json.load(f)\n",
    "corpus_embedding = torch.tensor(pd.read_csv(\"../models/mimic-iii/corpus.csv\").values).to(torch.float32)\n",
    "\n",
    "client = OpenAI(api_key=os.getenv(\"OAI_KEY\"))"
   ]
  },
  {
   "cell_type": "code",
   "execution_count": 4,
   "metadata": {},
   "outputs": [
    {
     "name": "stdout",
     "output_type": "stream",
     "text": [
      "2024-02-11 04:57:16,897 INFO sqlalchemy.engine.Engine SELECT DATABASE()\n",
      "2024-02-11 04:57:16,898 INFO sqlalchemy.engine.Engine [raw sql] {}\n",
      "2024-02-11 04:57:17,070 INFO sqlalchemy.engine.Engine SELECT @@sql_mode\n",
      "2024-02-11 04:57:17,071 INFO sqlalchemy.engine.Engine [raw sql] {}\n",
      "2024-02-11 04:57:17,143 INFO sqlalchemy.engine.Engine SELECT @@lower_case_table_names\n",
      "2024-02-11 04:57:17,143 INFO sqlalchemy.engine.Engine [raw sql] {}\n"
     ]
    }
   ],
   "source": [
    "conn_string = f'mysql+mysqlconnector://{user}:{password}@{host}/{database}'\n",
    "engine = create_engine(conn_string, echo=True)\n",
    "conn = engine.connect()"
   ]
  },
  {
   "cell_type": "code",
   "execution_count": 12,
   "metadata": {},
   "outputs": [],
   "source": [
    "question = \"what is the ingesting method of lansoprazole oral suspension?\""
   ]
  },
  {
   "cell_type": "code",
   "execution_count": 13,
   "metadata": {},
   "outputs": [
    {
     "name": "stdout",
     "output_type": "stream",
     "text": [
      "# Q: \twhat are the methods of consumption of insulin human nph?\n",
      "# A: \tselect distinct prescriptions.route from prescriptions where prescriptions.drug = 'insulin human nph'\n",
      "# Q: \ttell me the intake method for readi-cat 2 (barium sulfate 2% suspension)?\n",
      "# A: \tselect distinct prescriptions.route from prescriptions where prescriptions.drug = 'readi-cat 2 (barium sulfate 2% suspension)'\n",
      "# Q: \tjust how many metoprolol tartrate prescriptions were there since 4 years ago?\n",
      "# A: \tselect count(*) from prescriptions where prescriptions.drug = 'metoprolol tartrate' and datetime(prescriptions.startdate) >= datetime(current_time,'-4 year')\n",
      "# Q: \twhat are the ways to consume sterile water?\n",
      "# A: \tselect distinct prescriptions.route from prescriptions where prescriptions.drug = 'sterile water'\n",
      "# Q: \ttell me the intake method for sirolimus?\n",
      "# A: \tselect distinct prescriptions.route from prescriptions where prescriptions.drug = 'sirolimus'\n",
      "# Q: \twhat are the ways to consume guaifenesin?\n",
      "# A: \tselect distinct prescriptions.route from prescriptions where prescriptions.drug = 'guaifenesin'\n",
      "# Q: \twhat are the methods of consumption of send 500mg vial?\n",
      "# A: \tselect distinct prescriptions.route from prescriptions where prescriptions.drug = 'send 500mg vial'\n",
      "# Q: \twhat is the ingesting method of miconazole nitrate vaginal?\n",
      "# A: \tselect distinct prescriptions.route from prescriptions where prescriptions.drug = 'miconazole nitrate vaginal'\n",
      "# Q: \twhat is the ingesting method of nicotine lozenge?\n",
      "# A: \tselect distinct prescriptions.route from prescriptions where prescriptions.drug = 'nicotine lozenge'\n",
      "# Q: \twhat is the intake method of the nifedipine cr?\n",
      "# A: \tselect distinct prescriptions.route from prescriptions where prescriptions.drug = 'nifedipine cr'\n",
      "# Q: \ttell me the intake method for provera?\n",
      "# A: \tselect distinct prescriptions.route from prescriptions where prescriptions.drug = 'provera'\n",
      "# Q: \twhat are the ways to consume caspofungin?\n",
      "# A: \tselect distinct prescriptions.route from prescriptions where prescriptions.drug = 'caspofungin'\n",
      "# Q: \thas patient 88180 been prescribed epoetin alfa, lisinopril, or diphenhydramine in 2105?\n",
      "# A: \tselect count(*)>0 from prescriptions where prescriptions.hadm_id in ( select admissions.hadm_id from admissions where admissions.subject_id = 88180 ) and prescriptions.drug in ( 'epoetin alfa', 'lisinopril', 'diphenhydramine' ) and strftime('%y',prescriptions.startdate) = '2105'\n",
      "# Q: \twhat is the ingesting method of lansoprazole oral suspension?\n",
      "# A: \tselect distinct prescriptions.route from prescriptions where prescriptions.drug = 'lansoprazole oral suspension'\n",
      "# Q: \twhat is the intake method of the methotrexate sodium p.f.?\n",
      "# A: \tselect distinct prescriptions.route from prescriptions where prescriptions.drug = 'methotrexate sodium p.f.'# no LIMIT allowed \n",
      "#\n",
      "# hadm_id: hospital admission id\n",
      "# dose_val_rx: dosage size\n",
      "# dose_unit_rx: unit of dose\n",
      "# valueom: value units over minutes \n",
      "#\n",
      "### MySQL SQL tables, with their properties:\n",
      "#\n",
      "# patients(row_id, subject_id, gender, dob, dod)\n",
      "# admissions(row_id, subject_id, hadm_id, admittime, dischtime, admission_type, admission_location, discharge_location, insurance, language, marital_status, ethnicity, age)\n",
      "# d_icd_diagnoses(row_id, icd9_code, short_title, long_title)\n",
      "# d_icd_procedures(row_id, icd9_code, short_title, long_title)\n",
      "# d_labitems(row_id, itemid, label)\n",
      "# d_items(row_id, itemid, label, linksto)\n",
      "# diagnoses_icd(row_id, subject_id, hadm_id, icd9_code, charttime)\n",
      "# procedures_icd(row_id, subject_id, hadm_id, icd9_code, charttime)\n",
      "# labevents(row_id, subject_id, hadm_id, itemid, charttime, valuenum, valueuom)\n",
      "# prescriptions(row_id, subject_id, hadm_id, startdate, enddate, drug, dose_val_rx, dose_unit_rx, route)\n",
      "# cost(row_id, subject_id, hadm_id, event_type, event_id, chargetime, cost)\n",
      "# chartevents(row_id, subject_id, hadm_id, icustay_id, itemid, charttime, valuenum, valueuom)\n",
      "# inputevents_cv(row_id, subject_id, hadm_id, icustay_id, charttime, itemid, amount)\n",
      "# outputevents(row_id, subject_id, hadm_id, icustay_id, charttime, itemid, value)\n",
      "# microbiologyevents(row_id, subject_id, hadm_id, charttime, spec_type_desc, org_name)\n",
      "# icustays(row_id, subject_id, hadm_id, icustay_id, first_careunit, last_careunit, first_wardid, last_wardid, intime, outtime)\n",
      "# transfers(row_id, subject_id, hadm_id, icustay_id, eventtype, careunit, wardid, intime, outtime)\n",
      "# \n",
      "# Fields: dob means date of birth, dod means date of death, admittime means admit time dischtime is discharge time.\n",
      "### what is the ingesting method of lansoprazole oral suspension?\n",
      "select\n",
      "\n",
      "SELECT DISTINCT PRESCRIPTIONS.ROUTE \n",
      "FROM PRESCRIPTIONS \n",
      "WHERE PRESCRIPTIONS.DRUG = 'LANSOPRAZOLE ORAL SUSPENSION';\n",
      "\n"
     ]
    },
    {
     "data": {
      "text/plain": [
       "\"SELECT DISTINCT PRESCRIPTIONS.ROUTE \\nFROM PRESCRIPTIONS \\nWHERE PRESCRIPTIONS.DRUG = 'LANSOPRAZOLE ORAL SUSPENSION';\""
      ]
     },
     "execution_count": 13,
     "metadata": {},
     "output_type": "execute_result"
    }
   ],
   "source": [
    "def backend(question):\n",
    "    qqlist = [qqdict[str(i)] for i in SVS(question, k=15, corpus=corpus_embedding, model=model)]\n",
    "\n",
    "    relevant_qtext = \"# Q: \\t\" + \"\\n# Q: \\t\".join([\"\\n# A: \\t\".join(rel) for rel in qqlist])\n",
    "    test_prompt = open('../models/mimic-iii/codex_apidoc.txt').read()\n",
    "\n",
    "    result = run_engine(question, test_prompt, relevant_qtext)\n",
    "\n",
    "    print(result)\n",
    "    print()\n",
    "    return result\n",
    "    \n",
    "backend(question)"
   ]
  },
  {
   "cell_type": "code",
   "execution_count": 20,
   "metadata": {},
   "outputs": [],
   "source": [
    "test_prompt = open('../models/mimic-iii/codex_apidoc.txt').read()"
   ]
  },
  {
   "cell_type": "code",
   "execution_count": 5,
   "metadata": {},
   "outputs": [
    {
     "name": "stdout",
     "output_type": "stream",
     "text": [
      "Was patient 22973 prescribed insulin the last time they were at the ICU?\n",
      "\n",
      "SELECT COUNT(*)>0 \n",
      "FROM PRESCRIPTIONS \n",
      "WHERE PRESCRIPTIONS.HADM_ID IN \n",
      "( \n",
      "    SELECT ICUSTAYS.HADM_ID \n",
      "    FROM ICUSTAYS \n",
      "    WHERE ICUSTAYS.SUBJECT_ID = 22973 \n",
      "    ORDER BY ICUSTAYS.INTIME DESC \n",
      "    LIMIT 1 \n",
      ") \n",
      "AND PRESCRIPTIONS.DRUG = 'INSULIN';\n"
     ]
    }
   ],
   "source": [
    "print(question)\n",
    "print()\n",
    "print(\"SELECT COUNT(*)>0 \\nFROM PRESCRIPTIONS \\nWHERE PRESCRIPTIONS.HADM_ID IN \\n( \\n    SELECT ICUSTAYS.HADM_ID \\n    FROM ICUSTAYS \\n    WHERE ICUSTAYS.SUBJECT_ID = 22973 \\n    ORDER BY ICUSTAYS.INTIME DESC \\n    LIMIT 1 \\n) \\nAND PRESCRIPTIONS.DRUG = 'INSULIN';\")"
   ]
  },
  {
   "cell_type": "code",
   "execution_count": 6,
   "metadata": {},
   "outputs": [
    {
     "ename": "NameError",
     "evalue": "name 'sqlalchemy' is not defined",
     "output_type": "error",
     "traceback": [
      "\u001b[0;31m---------------------------------------------------------------------------\u001b[0m",
      "\u001b[0;31mNameError\u001b[0m                                 Traceback (most recent call last)",
      "Cell \u001b[0;32mIn[6], line 2\u001b[0m\n\u001b[1;32m      1\u001b[0m text \u001b[38;5;241m=\u001b[39m \u001b[38;5;124m'''\u001b[39m\u001b[38;5;124mSELECT DISTINCT PRESCRIPTIONS.ROUTE FROM PRESCRIPTIONS WHERE PRESCRIPTIONS.DRUG = \u001b[39m\u001b[38;5;124m'\u001b[39m\u001b[38;5;124mLANSOPRAZOLE ORAL SUSPENSION\u001b[39m\u001b[38;5;124m'\u001b[39m\u001b[38;5;124m;\u001b[39m\u001b[38;5;124m'''\u001b[39m\n\u001b[0;32m----> 2\u001b[0m c \u001b[38;5;241m=\u001b[39m conn\u001b[38;5;241m.\u001b[39mexecute(\u001b[43msqlalchemy\u001b[49m\u001b[38;5;241m.\u001b[39mtext(\u001b[38;5;124m\"\u001b[39m\u001b[38;5;124mSHOW TABLES;\u001b[39m\u001b[38;5;124m\"\u001b[39m))\n",
      "\u001b[0;31mNameError\u001b[0m: name 'sqlalchemy' is not defined"
     ]
    }
   ],
   "source": [
    "text = '''SELECT DISTINCT PRESCRIPTIONS.ROUTE FROM PRESCRIPTIONS WHERE PRESCRIPTIONS.DRUG = 'LANSOPRAZOLE ORAL SUSPENSION';'''"
   ]
  },
  {
   "cell_type": "code",
   "execution_count": 12,
   "metadata": {},
   "outputs": [
    {
     "name": "stdout",
     "output_type": "stream",
     "text": [
      "2024-02-11 04:56:57,580 INFO sqlalchemy.engine.Engine SELECT DATABASE()\n",
      "2024-02-11 04:56:57,580 INFO sqlalchemy.engine.Engine [raw sql] {}\n",
      "2024-02-11 04:56:57,743 INFO sqlalchemy.engine.Engine SELECT @@sql_mode\n",
      "2024-02-11 04:56:57,743 INFO sqlalchemy.engine.Engine [raw sql] {}\n",
      "2024-02-11 04:56:57,815 INFO sqlalchemy.engine.Engine SELECT @@lower_case_table_names\n",
      "2024-02-11 04:56:57,816 INFO sqlalchemy.engine.Engine [raw sql] {}\n"
     ]
    },
    {
     "ename": "TypeError",
     "evalue": "'str' object is not callable",
     "output_type": "error",
     "traceback": [
      "\u001b[0;31m---------------------------------------------------------------------------\u001b[0m",
      "\u001b[0;31mTypeError\u001b[0m                                 Traceback (most recent call last)",
      "Cell \u001b[0;32mIn[12], line 4\u001b[0m\n\u001b[1;32m      2\u001b[0m engine \u001b[38;5;241m=\u001b[39m create_engine(conn_string, echo\u001b[38;5;241m=\u001b[39m\u001b[38;5;28;01mTrue\u001b[39;00m)\n\u001b[1;32m      3\u001b[0m connection \u001b[38;5;241m=\u001b[39m engine\u001b[38;5;241m.\u001b[39mconnect()\n\u001b[0;32m----> 4\u001b[0m result \u001b[38;5;241m=\u001b[39m connection\u001b[38;5;241m.\u001b[39mexecute(\u001b[43mtext\u001b[49m\u001b[43m(\u001b[49m\u001b[38;5;124;43m\"\u001b[39;49m\u001b[38;5;124;43mSHOW TABLES;\u001b[39;49m\u001b[38;5;124;43m\"\u001b[39;49m\u001b[43m)\u001b[49m)\n\u001b[1;32m      5\u001b[0m result\n",
      "\u001b[0;31mTypeError\u001b[0m: 'str' object is not callable"
     ]
    }
   ],
   "source": [
    "conn_string = f'mysql+mysqlconnector://{user}:{password}@{host}/{database}'\n",
    "engine = create_engine(conn_string, echo=True)\n",
    "connection = engine.connect()\n",
    "result = connection.execute(text(\"SHOW TABLES;\"))\n",
    "result"
   ]
  },
  {
   "cell_type": "code",
   "execution_count": null,
   "metadata": {},
   "outputs": [],
   "source": []
  }
 ],
 "metadata": {
  "kernelspec": {
   "display_name": "Python 3.9.6 64-bit",
   "language": "python",
   "name": "python3"
  },
  "language_info": {
   "codemirror_mode": {
    "name": "ipython",
    "version": 3
   },
   "file_extension": ".py",
   "mimetype": "text/x-python",
   "name": "python",
   "nbconvert_exporter": "python",
   "pygments_lexer": "ipython3",
   "version": "3.9.6"
  },
  "orig_nbformat": 4,
  "vscode": {
   "interpreter": {
    "hash": "31f2aee4e71d21fbe5cf8b01ff0e069b9275f58929596ceb00d14d90e3e16cd6"
   }
  }
 },
 "nbformat": 4,
 "nbformat_minor": 2
}
