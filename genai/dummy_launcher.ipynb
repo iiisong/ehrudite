{
 "cells": [
  {
   "cell_type": "markdown",
   "metadata": {},
   "source": [
    "# this should be in backend\n",
    "testing here for convenience"
   ]
  },
  {
   "cell_type": "code",
   "execution_count": 1,
   "metadata": {},
   "outputs": [
    {
     "name": "stderr",
     "output_type": "stream",
     "text": [
      "/Users/isaac/Library/Python/3.9/lib/python/site-packages/urllib3/__init__.py:34: NotOpenSSLWarning: urllib3 v2.0 only supports OpenSSL 1.1.1+, currently the 'ssl' module is compiled with 'LibreSSL 2.8.3'. See: https://github.com/urllib3/urllib3/issues/3020\n",
      "  warnings.warn(\n"
     ]
    }
   ],
   "source": [
    "import torch\n",
    "import pandas as pd\n",
    "import json\n",
    "from openai import OpenAI\n",
    "from sentence_transformers import SentenceTransformer, util\n",
    "\n",
    "from svs import SVS\n",
    "from queryOpenAI import run_engine"
   ]
  },
  {
   "cell_type": "code",
   "execution_count": 2,
   "metadata": {},
   "outputs": [
    {
     "name": "stderr",
     "output_type": "stream",
     "text": [
      "/Users/isaac/Library/Python/3.9/lib/python/site-packages/torch/_utils.py:831: UserWarning: TypedStorage is deprecated. It will be removed in the future and UntypedStorage will be the only storage class. This should only matter to you if you are using storages directly.  To access UntypedStorage directly, use tensor.untyped_storage() instead of tensor.storage()\n",
      "  return self.fget.__get__(instance, owner)()\n"
     ]
    }
   ],
   "source": [
    "# preloading slow things\n",
    "model = SentenceTransformer('distilbert-multilingual-nli-stsb-quora-ranking')\n",
    "f = open('../models/mimic-iii/qqdict.json')\n",
    "qqdict = json.load(f)\n",
    "corpus_embedding = torch.tensor(pd.read_csv(\"../models/mimic-iii/corpus.csv\").values).to(torch.float32)\n",
    "\n",
    "client = OpenAI(api_key=os.getenv(\"OAI_KEY\"))"
   ]
  },
  {
   "cell_type": "code",
   "execution_count": 3,
   "metadata": {},
   "outputs": [],
   "source": [
    "question = \"What antibiotic was prescribed to patient 1125?\""
   ]
  },
  {
   "cell_type": "code",
   "execution_count": 4,
   "metadata": {},
   "outputs": [
    {
     "name": "stdout",
     "output_type": "stream",
     "text": [
      "# no LIMIT allowed \n",
      "#\n",
      "# hadm_id: hospital admission id\n",
      "# dose_val_rx: dosage size\n",
      "# dose_unit_rx: unit of dose\n",
      "# valueom: value units over minutes \n",
      "#\n",
      "### MySQL SQL tables, with their properties:\n",
      "#\n",
      "# patients(row_id, subject_id, gender, dob, dod)\n",
      "# admissions(row_id, subject_id, hadm_id, admittime, dischtime, admission_type, admission_location, discharge_location, insurance, language, marital_status, ethnicity, age)\n",
      "# d_icd_diagnoses(row_id, icd9_code, short_title, long_title)\n",
      "# d_icd_procedures(row_id, icd9_code, short_title, long_title)\n",
      "# d_labitems(row_id, itemid, label)\n",
      "# d_items(row_id, itemid, label, linksto)\n",
      "# diagnoses_icd(row_id, subject_id, hadm_id, icd9_code, charttime)\n",
      "# procedures_icd(row_id, subject_id, hadm_id, icd9_code, charttime)\n",
      "# labevents(row_id, subject_id, hadm_id, itemid, charttime, valuenum, valueuom)\n",
      "# prescriptions(row_id, subject_id, hadm_id, startdate, enddate, drug, dose_val_rx, dose_unit_rx, route)\n",
      "# cost(row_id, subject_id, hadm_id, event_type, event_id, chargetime, cost)\n",
      "# chartevents(row_id, subject_id, hadm_id, icustay_id, itemid, charttime, valuenum, valueuom)\n",
      "# inputevents_cv(row_id, subject_id, hadm_id, icustay_id, charttime, itemid, amount)\n",
      "# outputevents(row_id, subject_id, hadm_id, icustay_id, charttime, itemid, value)\n",
      "# microbiologyevents(row_id, subject_id, hadm_id, charttime, spec_type_desc, org_name)\n",
      "# icustays(row_id, subject_id, hadm_id, icustay_id, first_careunit, last_careunit, first_wardid, last_wardid, intime, outtime)\n",
      "# transfers(row_id, subject_id, hadm_id, icustay_id, eventtype, careunit, wardid, intime, outtime)\n",
      "# \n",
      "# Fields: dob means date of birth, dod means date of death, admittime means admit time dischtime is discharge time.\n",
      "### TEST_QUESTION\n",
      "select\n"
     ]
    },
    {
     "name": "stderr",
     "output_type": "stream",
     "text": [
      "huggingface/tokenizers: The current process just got forked, after parallelism has already been used. Disabling parallelism to avoid deadlocks...\n",
      "To disable this warning, you can either:\n",
      "\t- Avoid using `tokenizers` before the fork if possible\n",
      "\t- Explicitly set the environment variable TOKENIZERS_PARALLELISM=(true | false)\n"
     ]
    },
    {
     "name": "stdout",
     "output_type": "stream",
     "text": [
      "\n",
      "SELECT DRUG \n",
      "FROM PRESCRIPTIONS \n",
      "WHERE SUBJECT_ID = 1125 \n",
      "AND DRUG LIKE '%ANTIBIOTIC%';\n"
     ]
    },
    {
     "data": {
      "text/plain": [
       "\"SELECT DRUG \\nFROM PRESCRIPTIONS \\nWHERE SUBJECT_ID = 1125 \\nAND DRUG LIKE '%ANTIBIOTIC%';\""
      ]
     },
     "execution_count": 4,
     "metadata": {},
     "output_type": "execute_result"
    }
   ],
   "source": [
    "def backend(question):\n",
    "    qqlist = [qqdict[str(i)] for i in SVS(question, k=15, corpus=corpus_embedding, model=model)]\n",
    "\n",
    "    relevant_qtext = \"# Q: \\t\" + \"\\n# Q: \\t\".join([\"\\n# A: \\t\".join(rel) for rel in qqlist])\n",
    "    test_prompt = open('../models/mimic-iii/codex_apidoc.txt').read()\n",
    "\n",
    "    result = run_engine(question, test_prompt, relevant_qtext)\n",
    "\n",
    "    print(result)\n",
    "    print()\n",
    "    return result\n",
    "    \n",
    "backend(question)"
   ]
  },
  {
   "cell_type": "code",
   "execution_count": 20,
   "metadata": {},
   "outputs": [],
   "source": [
    "test_prompt = open('../models/mimic-iii/codex_apidoc.txt').read()"
   ]
  },
  {
   "cell_type": "code",
   "execution_count": 5,
   "metadata": {},
   "outputs": [
    {
     "name": "stdout",
     "output_type": "stream",
     "text": [
      "Was patient 22973 prescribed insulin the last time they were at the ICU?\n",
      "\n",
      "SELECT COUNT(*)>0 \n",
      "FROM PRESCRIPTIONS \n",
      "WHERE PRESCRIPTIONS.HADM_ID IN \n",
      "( \n",
      "    SELECT ICUSTAYS.HADM_ID \n",
      "    FROM ICUSTAYS \n",
      "    WHERE ICUSTAYS.SUBJECT_ID = 22973 \n",
      "    ORDER BY ICUSTAYS.INTIME DESC \n",
      "    LIMIT 1 \n",
      ") \n",
      "AND PRESCRIPTIONS.DRUG = 'INSULIN';\n"
     ]
    }
   ],
   "source": [
    "print(question)\n",
    "print()\n",
    "print(\"SELECT COUNT(*)>0 \\nFROM PRESCRIPTIONS \\nWHERE PRESCRIPTIONS.HADM_ID IN \\n( \\n    SELECT ICUSTAYS.HADM_ID \\n    FROM ICUSTAYS \\n    WHERE ICUSTAYS.SUBJECT_ID = 22973 \\n    ORDER BY ICUSTAYS.INTIME DESC \\n    LIMIT 1 \\n) \\nAND PRESCRIPTIONS.DRUG = 'INSULIN';\")"
   ]
  },
  {
   "cell_type": "code",
   "execution_count": null,
   "metadata": {},
   "outputs": [],
   "source": []
  }
 ],
 "metadata": {
  "kernelspec": {
   "display_name": "Python 3.9.6 64-bit",
   "language": "python",
   "name": "python3"
  },
  "language_info": {
   "codemirror_mode": {
    "name": "ipython",
    "version": 3
   },
   "file_extension": ".py",
   "mimetype": "text/x-python",
   "name": "python",
   "nbconvert_exporter": "python",
   "pygments_lexer": "ipython3",
   "version": "3.9.6"
  },
  "orig_nbformat": 4,
  "vscode": {
   "interpreter": {
    "hash": "31f2aee4e71d21fbe5cf8b01ff0e069b9275f58929596ceb00d14d90e3e16cd6"
   }
  }
 },
 "nbformat": 4,
 "nbformat_minor": 2
}
