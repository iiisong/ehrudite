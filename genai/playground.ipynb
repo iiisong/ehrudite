{
 "cells": [
  {
   "cell_type": "code",
   "execution_count": 4,
   "metadata": {},
   "outputs": [
    {
     "data": {
      "text/plain": [
       "True"
      ]
     },
     "execution_count": 4,
     "metadata": {},
     "output_type": "execute_result"
    }
   ],
   "source": [
    "import os\n",
    "import json\n",
    "import time\n",
    "\n",
    "from openai import OpenAI\n",
    "\n",
    "import argparse\n",
    "import numpy as np\n",
    "from tqdm import tqdm\n",
    "\n",
    "from dotenv import load_dotenv\n",
    "load_dotenv()"
   ]
  },
  {
   "cell_type": "code",
   "execution_count": 5,
   "metadata": {},
   "outputs": [],
   "source": [
    "\n",
    "client = OpenAI(api_key=os.getenv(\"OAI_KEY\"))"
   ]
  },
  {
   "cell_type": "code",
   "execution_count": 6,
   "metadata": {},
   "outputs": [],
   "source": [
    "prompt_path = \"../models/mimic-iii/codex_apidoc.txt\"\n",
    "test_data_path = \"../models/mimic-iii/valid.json\""
   ]
  },
  {
   "cell_type": "code",
   "execution_count": 7,
   "metadata": {},
   "outputs": [],
   "source": [
    "if prompt_path == '':\n",
    "    prompt_template = ''\n",
    "else:\n",
    "    with open(prompt_path) as f:\n",
    "        prompt_template = f.read()\n",
    "\n",
    "with open(test_data_path) as json_file:\n",
    "    data = json.load(json_file)"
   ]
  },
  {
   "cell_type": "code",
   "execution_count": 11,
   "metadata": {},
   "outputs": [],
   "source": [
    "def run_engine(prompt):\n",
    "    client = OpenAI(api_key=os.getenv(\"OAI_KEY\"))\n",
    "    response = client.chat.completions.create(model=\"gpt-3.5-turbo-0125\",\n",
    "    messages=[{\"role\": \"user\", \"content\": 'Return a sql query:' + prompt}],\n",
    "    temperature=0,\n",
    "    max_tokens=512,\n",
    "    top_p=1.0,\n",
    "    frequency_penalty=0.0,\n",
    "    presence_penalty=0.0,\n",
    "    stop=[\"#\", \";\"])\n",
    "    print()\n",
    "    text = response.choices[0].message.content\n",
    "    text = f'{text}'\n",
    "    return text"
   ]
  },
  {
   "cell_type": "code",
   "execution_count": 16,
   "metadata": {},
   "outputs": [
    {
     "name": "stdout",
     "output_type": "stream",
     "text": [
      "tell me the method of intake of clobetasol propionate 0.05% ointment?\n",
      "\n",
      "select  route\n",
      "from prescriptions\n",
      "where drug = 'clobetasol propionate 0.05% ointment'\n"
     ]
    },
    {
     "data": {
      "text/plain": [
       "\"select  route\\nfrom prescriptions\\nwhere drug = 'clobetasol propionate 0.05% ointment'\""
      ]
     },
     "execution_count": 16,
     "metadata": {},
     "output_type": "execute_result"
    }
   ],
   "source": [
    "def requestQuery(question):\n",
    "    print(question)\n",
    "    query = f\"select{run_engine(prompt_template.replace('TEST_QUESTION', question))}\"\n",
    "    print(query)\n",
    "    return query\n",
    "\n",
    "requestQuery(\"tell me the method of intake of clobetasol propionate 0.05% ointment?\")"
   ]
  },
  {
   "cell_type": "code",
   "execution_count": null,
   "metadata": {},
   "outputs": [],
   "source": []
  }
 ],
 "metadata": {
  "kernelspec": {
   "display_name": "Python 3.9.6 64-bit",
   "language": "python",
   "name": "python3"
  },
  "language_info": {
   "codemirror_mode": {
    "name": "ipython",
    "version": 3
   },
   "file_extension": ".py",
   "mimetype": "text/x-python",
   "name": "python",
   "nbconvert_exporter": "python",
   "pygments_lexer": "ipython3",
   "version": "3.9.6"
  },
  "orig_nbformat": 4,
  "vscode": {
   "interpreter": {
    "hash": "31f2aee4e71d21fbe5cf8b01ff0e069b9275f58929596ceb00d14d90e3e16cd6"
   }
  }
 },
 "nbformat": 4,
 "nbformat_minor": 2
}
